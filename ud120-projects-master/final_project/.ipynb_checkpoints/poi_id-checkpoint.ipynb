{
 "cells": [
  {
   "cell_type": "markdown",
   "metadata": {},
   "source": [
    "# Identifying Fraud at Enron Using Emails and Financial Data\n",
    "\n",
    "\n",
    "## Udacity Course - Intro to Machine Learning Final Project\n",
    "\n",
    "\n",
    "### Project Introduction\n",
    "\n",
    "In 2000, Enron was one of the largest companies in the United States. By 2002, it had collapsed into bankruptcy due to widespread corporate fraud. In the resulting Federal investigation, there was a significant amount of typically confidential information entered into public record, including tens of thousands of emails and detailed financial data for top executives. \n",
    "\n",
    "For this project, predictive models were built using scikit learn, numpy, and pandas modules in Python. The target of the predictions were persons-of-interest (POI’s) who were ‘individuals who were indicted, reached a settlement, or plea deal with the government, or testified in exchange for prosecution immunity.’ Financial compensation data and aggregate email statistics from the Enron Corpus were used as features for prediction.\n",
    "\n",
    "\n",
    "The goal of this project wass the build a prediction model to identify persons-of-interest (POI’s.) "
   ]
  },
  {
   "cell_type": "markdown",
   "metadata": {},
   "source": [
    "### Understanding the Dataset and Question"
   ]
  },
  {
   "cell_type": "markdown",
   "metadata": {},
   "source": [
    "#### Data Exploration (related mini-project: Lesson 5)\n",
    "\n",
    "Student response addresses the most important characteristics of the dataset and uses these characteristics to \n",
    "inform their analysis. \n",
    "\n",
    "Important characteristics include:\n",
    "    Total number of data points\n",
    "    Allocation across classes (POI/non-POI)\n",
    "    Number of features used\n",
    "    Are there features with many missing values? etc."
   ]
  },
  {
   "cell_type": "code",
   "execution_count": 1,
   "metadata": {
    "collapsed": false
   },
   "outputs": [
    {
     "name": "stderr",
     "output_type": "stream",
     "text": [
      "/Users/LiWang/anaconda/lib/python2.7/site-packages/sklearn/cross_validation.py:44: DeprecationWarning: This module was deprecated in version 0.18 in favor of the model_selection module into which all the refactored classes and functions are moved. Also note that the interface of the new CV iterators are different from that of this module. This module will be removed in 0.20.\n",
      "  \"This module will be removed in 0.20.\", DeprecationWarning)\n"
     ]
    }
   ],
   "source": [
    "# import libraries\n",
    "import sys\n",
    "import pickle\n",
    "import numpy as np\n",
    "import pandas as pd\n",
    "import sklearn\n",
    "#from ggplot import *\n",
    "import matplotlib as plt\n",
    "%matplotlib inline\n",
    "\n",
    "sys.path.append(\"../tools/\")\n",
    "\n",
    "from feature_format import featureFormat, targetFeatureSplit\n",
    "from tester import test_classifier, dump_classifier_and_data\n"
   ]
  },
  {
   "cell_type": "code",
   "execution_count": 2,
   "metadata": {
    "collapsed": false
   },
   "outputs": [],
   "source": [
    "# features_list is a list of strings, each of which is a feature name.\n",
    "# The first feature must be \"poi\".\n",
    "features_list = ['poi', 'salary', 'to_messages', 'deferral_payments', 'total_payments', \n",
    "                 'loan_advances', 'bonus', 'restricted_stock_deferred', \n",
    "                 'deferred_income', 'total_stock_value', 'expenses', 'from_poi_to_this_person', \n",
    "                 'exercised_stock_options', 'from_messages', 'other', 'from_this_person_to_poi', \n",
    "                 'long_term_incentive', 'shared_receipt_with_poi', 'restricted_stock', 'director_fees'] \n",
    "\n",
    "### Load the dictionary containing the dataset\n",
    "with open(\"final_project_dataset_modified.pkl\", \"r\") as data_file:\n",
    "    enron_dict = pickle.load(data_file)\n",
    "    \n",
    "enron_dict['METTS MARK'].keys()\n",
    "\n",
    "f = open('poi_names.txt', 'r')\n"
   ]
  },
  {
   "cell_type": "markdown",
   "metadata": {},
   "source": [
    "The features in the data fall into three major types, namely financial features, email features and POI labels.\n",
    "\n",
    "financial features: ['salary', 'deferral_payments', 'total_payments', 'loan_advances', 'bonus', 'restricted_stock_deferred', 'deferred_income', 'total_stock_value', 'expenses', 'exercised_stock_options', 'other', 'long_term_incentive', 'restricted_stock', 'director_fees'] (all units are in US dollars)\n",
    "\n",
    "email features: ['to_messages', 'email_address', 'from_poi_to_this_person', 'from_messages', 'from_this_person_to_poi', 'shared_receipt_with_poi'] (units are generally number of emails messages; notable exception is ‘email_address’, which is a text string)\n",
    "\n",
    "POI label: [‘poi’] (boolean, represented as integer)\n",
    "\n",
    "I'm going to try to use all features, filter them and choose the best."
   ]
  },
  {
   "cell_type": "code",
   "execution_count": 3,
   "metadata": {
    "collapsed": false
   },
   "outputs": [
    {
     "name": "stdout",
     "output_type": "stream",
     "text": [
      "0          METTS MARK\n",
      "1       BAXTER JOHN C\n",
      "2      ELLIOTT STEVEN\n",
      "3    CORDES WILLIAM R\n",
      "4      HANNON KEVIN P\n",
      "dtype: object\n",
      "     bonus deferral_payments deferred_income director_fees  \\\n",
      "0   600000               NaN             NaN           NaN   \n",
      "1  1200000           1295738        -1386055           NaN   \n",
      "2   350000               NaN         -400729           NaN   \n",
      "3      NaN               NaN             NaN           NaN   \n",
      "4  1500000               NaN        -3117011           NaN   \n",
      "\n",
      "              email_address exercised_stock_options expenses from_messages  \\\n",
      "0      mark.metts@enron.com                     NaN    94299            29   \n",
      "1                       NaN                 6680544    11200           NaN   \n",
      "2  steven.elliott@enron.com                 4890344    78552           NaN   \n",
      "3     bill.cordes@enron.com                  651850      NaN            12   \n",
      "4    kevin.hannon@enron.com                 5538001    34039            32   \n",
      "\n",
      "  from_poi_to_this_person from_this_person_to_poi        ...         \\\n",
      "0                      38                       1        ...          \n",
      "1                     NaN                     NaN        ...          \n",
      "2                     NaN                     NaN        ...          \n",
      "3                      10                       0        ...          \n",
      "4                      32                      21        ...          \n",
      "\n",
      "  long_term_incentive    other    poi restricted_stock  \\\n",
      "0                 NaN     1740  False           585062   \n",
      "1             1586055  2660303  False          3942714   \n",
      "2                 NaN    12961  False          1788391   \n",
      "3                 NaN      NaN  False           386335   \n",
      "4             1617011    11350   True           853064   \n",
      "\n",
      "  restricted_stock_deferred  salary shared_receipt_with_poi to_messages  \\\n",
      "0                       NaN  365788                     702         807   \n",
      "1                       NaN  267102                     NaN         NaN   \n",
      "2                       NaN  170941                     NaN         NaN   \n",
      "3                       NaN     NaN                      58         764   \n",
      "4                       NaN  243293                    1035        1045   \n",
      "\n",
      "  total_payments total_stock_value  \n",
      "0        1061827            585062  \n",
      "1        5634343          10623258  \n",
      "2         211725           6678735  \n",
      "3            NaN           1038185  \n",
      "4         288682           6391065  \n",
      "\n",
      "[5 rows x 21 columns]\n"
     ]
    }
   ],
   "source": [
    "# Change data dictionary to pandas DataFrame\n",
    "df = pd.DataFrame.from_records(list(enron_dict.values()))\n",
    "persons = pd.Series(list(enron_dict.keys()))\n",
    "\n",
    "print persons.head()\n",
    "print df.head()"
   ]
  },
  {
   "cell_type": "code",
   "execution_count": 4,
   "metadata": {
    "collapsed": false
   },
   "outputs": [
    {
     "name": "stdout",
     "output_type": "stream",
     "text": [
      "<class 'pandas.core.frame.DataFrame'>\n",
      "RangeIndex: 143 entries, 0 to 142\n",
      "Data columns (total 21 columns):\n",
      "bonus                        143 non-null object\n",
      "deferral_payments            143 non-null object\n",
      "deferred_income              143 non-null object\n",
      "director_fees                143 non-null object\n",
      "email_address                143 non-null object\n",
      "exercised_stock_options      143 non-null object\n",
      "expenses                     143 non-null object\n",
      "from_messages                143 non-null object\n",
      "from_poi_to_this_person      143 non-null object\n",
      "from_this_person_to_poi      143 non-null object\n",
      "loan_advances                143 non-null object\n",
      "long_term_incentive          143 non-null object\n",
      "other                        143 non-null object\n",
      "poi                          143 non-null bool\n",
      "restricted_stock             143 non-null object\n",
      "restricted_stock_deferred    143 non-null object\n",
      "salary                       143 non-null object\n",
      "shared_receipt_with_poi      143 non-null object\n",
      "to_messages                  143 non-null object\n",
      "total_payments               143 non-null object\n",
      "total_stock_value            142 non-null object\n",
      "dtypes: bool(1), object(20)\n",
      "memory usage: 22.6+ KB\n"
     ]
    }
   ],
   "source": [
    "# dataframe dimension\n",
    "df.shape\n",
    "\n",
    "df.info()"
   ]
  },
  {
   "cell_type": "code",
   "execution_count": 9,
   "metadata": {
    "collapsed": false
   },
   "outputs": [
    {
     "name": "stdout",
     "output_type": "stream",
     "text": [
      "['METTS MARK', 'BAXTER JOHN C', 'ELLIOTT STEVEN', 'CORDES WILLIAM R', 'HANNON KEVIN P', 'MORDAUNT KRISTINA M', 'MEYER ROCKFORD G', 'MCMAHON JEFFREY', 'HORTON STANLEY C', 'PIPER GREGORY F', 'HUMPHREY GENE E', 'UMANOFF ADAM S', 'BLACHMAN JEREMY M', 'SUNDE MARTIN', 'GIBBS DANA R', 'LOWRY CHARLES P', 'COLWELL WESLEY', 'MULLER MARK S', 'JACKSON CHARLENE R', 'WESTFAHL RICHARD K', 'WALTERS GARETH W', 'WALLS JR ROBERT H', 'KITCHEN LOUISE', 'CHAN RONNIE', 'BELFER ROBERT', 'SHANKMAN JEFFREY A', 'WODRASKA JOHN', 'BERGSIEKER RICHARD P', 'URQUHART JOHN A', 'BIBI PHILIPPE A', 'RIEKER PAULA H', 'WHALEY DAVID A', 'BECK SALLY W', 'HAUG DAVID L', 'ECHOLS JOHN B', 'MENDELSOHN JOHN', 'HICKERSON GARY J', 'CLINE KENNETH W', 'LEWIS RICHARD', 'HAYES ROBERT E', 'MCCARTY DANNY J', 'KOPPER MICHAEL J', 'LEFF DANIEL P', 'LAVORATO JOHN J', 'BERBERIAN DAVID', 'DETMERING TIMOTHY J', 'WAKEHAM JOHN', 'POWERS WILLIAM', 'GOLD JOSEPH', 'BANNANTINE JAMES M', 'DUNCAN JOHN H', 'SHAPIRO RICHARD S', 'SHERRIFF JOHN R', 'SHELBY REX', 'LEMAISTRE CHARLES', 'DEFFNER JOSEPH M', 'KISHKILL JOSEPH G', 'WHALLEY LAWRENCE G', 'MCCONNELL MICHAEL S', 'PIRO JIM', 'DELAINEY DAVID W', 'SULLIVAN-SHAKLOVITZ COLLEEN', 'WROBEL BRUCE', 'LINDHOLM TOD A', 'MEYER JEROME J', 'BUTTS ROBERT H', 'OLSON CINDY K', 'MCDONALD REBECCA', 'CUMBERLAND MICHAEL S', 'GAHN ROBERT S', 'MCCLELLAN GEORGE', 'HERMANN ROBERT J', 'SCRIMSHAW MATTHEW', 'GATHMANN WILLIAM D', 'HAEDICKE MARK E', 'BOWEN JR RAYMOND M', 'GILLIS JOHN', 'FASTOW ANDREW S', 'FITZGERALD JAY L', 'MORAN MICHAEL P', 'REDMOND BRIAN L', 'BAZELIDES PHILIP J', 'BELDEN TIMOTHY N', 'DURAN WILLIAM D', 'THORN TERENCE H', 'FOY JOE', 'CALGER CHRISTOPHER F', 'RICE KENNETH D', 'KAMINSKI WINCENTY J', 'LOCKHART EUGENE E', 'COX DAVID', 'OVERDYKE JR JERE C', 'PEREIRA PAULO V. FERRAZ', 'STABLER FRANK', 'BLAKE JR. NORMAN P', 'SHERRICK JEFFREY B', 'PRENTICE JAMES', 'GRAY RODNEY', 'PICKERING MARK R', 'THE TRAVEL AGENCY IN THE PARK', 'NOLES JAMES L', 'KEAN STEVEN J', 'FOWLER PEGGY', 'WASAFF GEORGE', 'WHITE JR THOMAS E', 'CHRISTODOULOU DIOMEDES', 'ALLEN PHILLIP K', 'SHARP VICTORIA T', 'JAEDICKE ROBERT', 'WINOKUR JR. HERBERT S', 'BROWN MICHAEL', 'BADUM JAMES P', 'HUGHES JAMES A', 'REYNOLDS LAWRENCE', 'DIMICHELE RICHARD G', 'BHATNAGAR SANJAY', 'CARTER REBECCA C', 'BUCHANAN HAROLD G', 'YEAP SOON', 'MURRAY JULIA H', 'GARLAND C KEVIN', 'DODSON KEITH', 'YEAGER F SCOTT', 'HIRKO JOSEPH', 'DIETRICH JANET R', 'DERRICK JR. JAMES V', 'FREVERT MARK A', 'PAI LOU L', 'BAY FRANKLIN R', 'HAYSLETT RODERICK J', 'FUGH JOHN L', 'FALLON JAMES B', 'KOENIG MARK E', 'SAVAGE FRANK', 'IZZO LAWRENCE L', 'TILNEY ELIZABETH A', 'MARTIN AMANDA K', 'BUY RICHARD B', 'GRAMM WENDY L', 'CAUSEY RICHARD A', 'TAYLOR MITCHELL S', 'DONAHUE JR JEFFREY M', 'GLISAN JR BEN F']\n"
     ]
    }
   ],
   "source": [
    "print enron_dict.keys()"
   ]
  },
  {
   "cell_type": "code",
   "execution_count": 5,
   "metadata": {
    "collapsed": false
   },
   "outputs": [
    {
     "name": "stdout",
     "output_type": "stream",
     "text": [
      "Columns: ['bonus', 'deferral_payments', 'deferred_income', 'director_fees', 'email_address', 'exercised_stock_options', 'expenses', 'from_messages', 'from_poi_to_this_person', 'from_this_person_to_poi', 'loan_advances', 'long_term_incentive', 'other', 'poi', 'restricted_stock', 'restricted_stock_deferred', 'salary', 'shared_receipt_with_poi', 'to_messages', 'total_payments', 'total_stock_value']\n",
      "Shape: (143, 21)\n",
      "Number of POI in the dataset: 16\n",
      "Number of non-POI in the dataset: 127\n"
     ]
    }
   ],
   "source": [
    "print 'Columns:', list(df.columns.values)\n",
    "print 'Shape:', df.shape\n",
    "print 'Number of POI in the dataset:', (df['poi'] == 1).sum()\n",
    "print 'Number of non-POI in the dataset:', (df['poi'] == 0).sum()"
   ]
  },
  {
   "cell_type": "code",
   "execution_count": 6,
   "metadata": {
    "collapsed": false
   },
   "outputs": [
    {
     "name": "stdout",
     "output_type": "stream",
     "text": [
      "bonus                         64\n",
      "deferral_payments            106\n",
      "deferred_income               96\n",
      "director_fees                127\n",
      "email_address                 34\n",
      "exercised_stock_options       44\n",
      "expenses                      51\n",
      "from_messages                 59\n",
      "from_poi_to_this_person       59\n",
      "from_this_person_to_poi       59\n",
      "loan_advances                141\n",
      "long_term_incentive           80\n",
      "other                         53\n",
      "poi                            0\n",
      "restricted_stock              36\n",
      "restricted_stock_deferred    126\n",
      "salary                        51\n",
      "shared_receipt_with_poi       59\n",
      "to_messages                   59\n",
      "total_payments                21\n",
      "total_stock_value             20\n",
      "dtype: int64\n"
     ]
    }
   ],
   "source": [
    "# convert to numpy.nan\n",
    "df.replace(to_replace='NaN', value=np.nan, inplace=True)\n",
    "\n",
    "# count number of nan for columns\n",
    "print df.isnull().sum()\n"
   ]
  },
  {
   "cell_type": "markdown",
   "metadata": {},
   "source": [
    "There were 143 total records and 16 POIs in the original dataset.\n",
    "\n",
    "All features have null data."
   ]
  },
  {
   "cell_type": "markdown",
   "metadata": {
    "collapsed": true
   },
   "source": [
    "#### Outlier Investigation (related mini-project: Lesson 7)\n",
    "\n",
    "Student response identifies outlier(s) in the financial data, and explains how they are removed or otherwise handled."
   ]
  },
  {
   "cell_type": "code",
   "execution_count": 7,
   "metadata": {
    "collapsed": false
   },
   "outputs": [],
   "source": [
    "# remove column from df if null counter > 65\n",
    "for column, series in df.iteritems():\n",
    "    if series.isnull().sum() > 65:\n",
    "        df.drop(column, axis=1, inplace=True)\n",
    "\n",
    "# remove email address column\n",
    "if 'email_address' in list(df.columns.values):\n",
    "    df.drop('email_address', axis=1, inplace=True)"
   ]
  },
  {
   "cell_type": "code",
   "execution_count": 8,
   "metadata": {
    "collapsed": false
   },
   "outputs": [
    {
     "name": "stdout",
     "output_type": "stream",
     "text": [
      "<class 'pandas.core.frame.DataFrame'>\n",
      "RangeIndex: 143 entries, 0 to 142\n",
      "Data columns (total 14 columns):\n",
      "bonus                      79 non-null float64\n",
      "exercised_stock_options    99 non-null float64\n",
      "expenses                   92 non-null float64\n",
      "from_messages              84 non-null float64\n",
      "from_poi_to_this_person    84 non-null float64\n",
      "from_this_person_to_poi    84 non-null float64\n",
      "other                      90 non-null float64\n",
      "poi                        143 non-null bool\n",
      "restricted_stock           107 non-null float64\n",
      "salary                     92 non-null float64\n",
      "shared_receipt_with_poi    84 non-null float64\n",
      "to_messages                84 non-null float64\n",
      "total_payments             122 non-null float64\n",
      "total_stock_value          123 non-null float64\n",
      "dtypes: bool(1), float64(13)\n",
      "memory usage: 14.7 KB\n"
     ]
    }
   ],
   "source": [
    "df.info()"
   ]
  },
  {
   "cell_type": "code",
   "execution_count": 10,
   "metadata": {
    "collapsed": false
   },
   "outputs": [
    {
     "name": "stdout",
     "output_type": "stream",
     "text": [
      "bonus                      0\n",
      "exercised_stock_options    0\n",
      "expenses                   0\n",
      "from_messages              0\n",
      "from_poi_to_this_person    0\n",
      "from_this_person_to_poi    0\n",
      "other                      0\n",
      "poi                        0\n",
      "restricted_stock           0\n",
      "salary                     0\n",
      "shared_receipt_with_poi    0\n",
      "to_messages                0\n",
      "total_payments             0\n",
      "total_stock_value          0\n",
      "dtype: int64\n",
      "       bonus  exercised_stock_options  expenses  from_messages  \\\n",
      "0   600000.0                      0.0   94299.0           29.0   \n",
      "1  1200000.0                6680544.0   11200.0            0.0   \n",
      "2   350000.0                4890344.0   78552.0            0.0   \n",
      "3        0.0                 651850.0       0.0           12.0   \n",
      "4  1500000.0                5538001.0   34039.0           32.0   \n",
      "\n",
      "   from_poi_to_this_person  from_this_person_to_poi      other    poi  \\\n",
      "0                     38.0                      1.0     1740.0  False   \n",
      "1                      0.0                      0.0  2660303.0  False   \n",
      "2                      0.0                      0.0    12961.0  False   \n",
      "3                     10.0                      0.0        0.0  False   \n",
      "4                     32.0                     21.0    11350.0   True   \n",
      "\n",
      "   restricted_stock    salary  shared_receipt_with_poi  to_messages  \\\n",
      "0          585062.0  365788.0                    702.0        807.0   \n",
      "1         3942714.0  267102.0                      0.0          0.0   \n",
      "2         1788391.0  170941.0                      0.0          0.0   \n",
      "3          386335.0       0.0                     58.0        764.0   \n",
      "4          853064.0  243293.0                   1035.0       1045.0   \n",
      "\n",
      "   total_payments  total_stock_value  \n",
      "0       1061827.0           585062.0  \n",
      "1       5634343.0         10623258.0  \n",
      "2        211725.0          6678735.0  \n",
      "3             0.0          1038185.0  \n",
      "4        288682.0          6391065.0  \n"
     ]
    },
    {
     "data": {
      "text/html": [
       "<div>\n",
       "<table border=\"1\" class=\"dataframe\">\n",
       "  <thead>\n",
       "    <tr style=\"text-align: right;\">\n",
       "      <th></th>\n",
       "      <th>bonus</th>\n",
       "      <th>exercised_stock_options</th>\n",
       "      <th>expenses</th>\n",
       "      <th>from_messages</th>\n",
       "      <th>from_poi_to_this_person</th>\n",
       "      <th>from_this_person_to_poi</th>\n",
       "      <th>other</th>\n",
       "      <th>restricted_stock</th>\n",
       "      <th>salary</th>\n",
       "      <th>shared_receipt_with_poi</th>\n",
       "      <th>to_messages</th>\n",
       "      <th>total_payments</th>\n",
       "      <th>total_stock_value</th>\n",
       "    </tr>\n",
       "  </thead>\n",
       "  <tbody>\n",
       "    <tr>\n",
       "      <th>count</th>\n",
       "      <td>1.430000e+02</td>\n",
       "      <td>1.430000e+02</td>\n",
       "      <td>143.000000</td>\n",
       "      <td>143.000000</td>\n",
       "      <td>143.000000</td>\n",
       "      <td>143.000000</td>\n",
       "      <td>1.430000e+02</td>\n",
       "      <td>1.430000e+02</td>\n",
       "      <td>1.430000e+02</td>\n",
       "      <td>143.000000</td>\n",
       "      <td>143.000000</td>\n",
       "      <td>1.430000e+02</td>\n",
       "      <td>1.430000e+02</td>\n",
       "    </tr>\n",
       "    <tr>\n",
       "      <th>mean</th>\n",
       "      <td>5.926127e+05</td>\n",
       "      <td>1.715504e+06</td>\n",
       "      <td>34719.447552</td>\n",
       "      <td>365.118881</td>\n",
       "      <td>37.552448</td>\n",
       "      <td>24.475524</td>\n",
       "      <td>2.267385e+05</td>\n",
       "      <td>7.235235e+05</td>\n",
       "      <td>1.714731e+05</td>\n",
       "      <td>676.384615</td>\n",
       "      <td>1191.972028</td>\n",
       "      <td>1.489942e+06</td>\n",
       "      <td>2.404233e+06</td>\n",
       "    </tr>\n",
       "    <tr>\n",
       "      <th>std</th>\n",
       "      <td>1.036924e+06</td>\n",
       "      <td>3.694149e+06</td>\n",
       "      <td>45235.547286</td>\n",
       "      <td>1455.675655</td>\n",
       "      <td>74.148184</td>\n",
       "      <td>80.080666</td>\n",
       "      <td>7.552178e+05</td>\n",
       "      <td>1.571184e+06</td>\n",
       "      <td>1.660404e+05</td>\n",
       "      <td>1066.923179</td>\n",
       "      <td>2223.860300</td>\n",
       "      <td>2.386745e+06</td>\n",
       "      <td>4.422592e+06</td>\n",
       "    </tr>\n",
       "    <tr>\n",
       "      <th>min</th>\n",
       "      <td>0.000000e+00</td>\n",
       "      <td>0.000000e+00</td>\n",
       "      <td>0.000000</td>\n",
       "      <td>0.000000</td>\n",
       "      <td>0.000000</td>\n",
       "      <td>0.000000</td>\n",
       "      <td>0.000000e+00</td>\n",
       "      <td>-2.604490e+06</td>\n",
       "      <td>0.000000e+00</td>\n",
       "      <td>0.000000</td>\n",
       "      <td>0.000000</td>\n",
       "      <td>0.000000e+00</td>\n",
       "      <td>-4.409300e+04</td>\n",
       "    </tr>\n",
       "    <tr>\n",
       "      <th>25%</th>\n",
       "      <td>0.000000e+00</td>\n",
       "      <td>0.000000e+00</td>\n",
       "      <td>0.000000</td>\n",
       "      <td>0.000000</td>\n",
       "      <td>0.000000</td>\n",
       "      <td>0.000000</td>\n",
       "      <td>0.000000e+00</td>\n",
       "      <td>0.000000e+00</td>\n",
       "      <td>0.000000e+00</td>\n",
       "      <td>0.000000</td>\n",
       "      <td>0.000000</td>\n",
       "      <td>8.929250e+04</td>\n",
       "      <td>2.148255e+05</td>\n",
       "    </tr>\n",
       "    <tr>\n",
       "      <th>50%</th>\n",
       "      <td>2.500000e+05</td>\n",
       "      <td>6.014380e+05</td>\n",
       "      <td>17355.000000</td>\n",
       "      <td>16.000000</td>\n",
       "      <td>1.000000</td>\n",
       "      <td>0.000000</td>\n",
       "      <td>8.910000e+02</td>\n",
       "      <td>3.466630e+05</td>\n",
       "      <td>2.061210e+05</td>\n",
       "      <td>91.000000</td>\n",
       "      <td>266.000000</td>\n",
       "      <td>9.114530e+05</td>\n",
       "      <td>9.543540e+05</td>\n",
       "    </tr>\n",
       "    <tr>\n",
       "      <th>75%</th>\n",
       "      <td>8.000000e+05</td>\n",
       "      <td>1.636136e+06</td>\n",
       "      <td>52688.500000</td>\n",
       "      <td>50.500000</td>\n",
       "      <td>39.500000</td>\n",
       "      <td>12.500000</td>\n",
       "      <td>1.492040e+05</td>\n",
       "      <td>6.801640e+05</td>\n",
       "      <td>2.670975e+05</td>\n",
       "      <td>869.000000</td>\n",
       "      <td>1504.000000</td>\n",
       "      <td>1.858492e+06</td>\n",
       "      <td>2.217787e+06</td>\n",
       "    </tr>\n",
       "    <tr>\n",
       "      <th>max</th>\n",
       "      <td>8.000000e+06</td>\n",
       "      <td>3.076606e+07</td>\n",
       "      <td>228763.000000</td>\n",
       "      <td>14368.000000</td>\n",
       "      <td>528.000000</td>\n",
       "      <td>609.000000</td>\n",
       "      <td>7.427621e+06</td>\n",
       "      <td>1.384707e+07</td>\n",
       "      <td>1.060932e+06</td>\n",
       "      <td>5521.000000</td>\n",
       "      <td>15149.000000</td>\n",
       "      <td>1.725253e+07</td>\n",
       "      <td>3.076606e+07</td>\n",
       "    </tr>\n",
       "  </tbody>\n",
       "</table>\n",
       "</div>"
      ],
      "text/plain": [
       "              bonus  exercised_stock_options       expenses  from_messages  \\\n",
       "count  1.430000e+02             1.430000e+02     143.000000     143.000000   \n",
       "mean   5.926127e+05             1.715504e+06   34719.447552     365.118881   \n",
       "std    1.036924e+06             3.694149e+06   45235.547286    1455.675655   \n",
       "min    0.000000e+00             0.000000e+00       0.000000       0.000000   \n",
       "25%    0.000000e+00             0.000000e+00       0.000000       0.000000   \n",
       "50%    2.500000e+05             6.014380e+05   17355.000000      16.000000   \n",
       "75%    8.000000e+05             1.636136e+06   52688.500000      50.500000   \n",
       "max    8.000000e+06             3.076606e+07  228763.000000   14368.000000   \n",
       "\n",
       "       from_poi_to_this_person  from_this_person_to_poi         other  \\\n",
       "count               143.000000               143.000000  1.430000e+02   \n",
       "mean                 37.552448                24.475524  2.267385e+05   \n",
       "std                  74.148184                80.080666  7.552178e+05   \n",
       "min                   0.000000                 0.000000  0.000000e+00   \n",
       "25%                   0.000000                 0.000000  0.000000e+00   \n",
       "50%                   1.000000                 0.000000  8.910000e+02   \n",
       "75%                  39.500000                12.500000  1.492040e+05   \n",
       "max                 528.000000               609.000000  7.427621e+06   \n",
       "\n",
       "       restricted_stock        salary  shared_receipt_with_poi   to_messages  \\\n",
       "count      1.430000e+02  1.430000e+02               143.000000    143.000000   \n",
       "mean       7.235235e+05  1.714731e+05               676.384615   1191.972028   \n",
       "std        1.571184e+06  1.660404e+05              1066.923179   2223.860300   \n",
       "min       -2.604490e+06  0.000000e+00                 0.000000      0.000000   \n",
       "25%        0.000000e+00  0.000000e+00                 0.000000      0.000000   \n",
       "50%        3.466630e+05  2.061210e+05                91.000000    266.000000   \n",
       "75%        6.801640e+05  2.670975e+05               869.000000   1504.000000   \n",
       "max        1.384707e+07  1.060932e+06              5521.000000  15149.000000   \n",
       "\n",
       "       total_payments  total_stock_value  \n",
       "count    1.430000e+02       1.430000e+02  \n",
       "mean     1.489942e+06       2.404233e+06  \n",
       "std      2.386745e+06       4.422592e+06  \n",
       "min      0.000000e+00      -4.409300e+04  \n",
       "25%      8.929250e+04       2.148255e+05  \n",
       "50%      9.114530e+05       9.543540e+05  \n",
       "75%      1.858492e+06       2.217787e+06  \n",
       "max      1.725253e+07       3.076606e+07  "
      ]
     },
     "execution_count": 10,
     "metadata": {},
     "output_type": "execute_result"
    }
   ],
   "source": [
    "# Impute the missing values\n",
    "#from sklearn.preprocessing import Imputer\n",
    "#imp = Imputer(missing_values='NaN', strategy='median', axis=0)\n",
    "#imp.fit(df)\n",
    "#df_imp = pd.DataFrame(imp.transform(df.copy(deep=True)))\n",
    "\n",
    "df_imp = df.replace(to_replace=np.nan, value=0)\n",
    "df_imp = df.fillna(0).copy(deep=True)\n",
    "df_imp.columns = list(df.columns.values)\n",
    "\n",
    "print df_imp.isnull().sum()\n",
    "print df_imp.head()\n",
    "\n",
    "df_imp.describe()\n"
   ]
  },
  {
   "cell_type": "code",
   "execution_count": 14,
   "metadata": {
    "collapsed": false
   },
   "outputs": [
    {
     "name": "stdout",
     "output_type": "stream",
     "text": [
      "99\n"
     ]
    }
   ],
   "source": [
    "# drop row for 'THE TRAVEL AGENCY IN THE PARK'\n",
    "\n",
    "park_index = enron_dict.keys().index('THE TRAVEL AGENCY IN THE PARK')\n",
    "print park_index\n",
    "df_imp_sub = df_imp.drop(df_imp.index[[park_index]])"
   ]
  },
  {
   "cell_type": "code",
   "execution_count": 21,
   "metadata": {
    "collapsed": false
   },
   "outputs": [
    {
     "data": {
      "text/plain": [
       "{'bonus': 'NaN',\n",
       " 'deferral_payments': 'NaN',\n",
       " 'deferred_income': 'NaN',\n",
       " 'director_fees': 'NaN',\n",
       " 'email_address': 'NaN',\n",
       " 'exercised_stock_options': 'NaN',\n",
       " 'expenses': 'NaN',\n",
       " 'from_messages': 'NaN',\n",
       " 'from_poi_to_this_person': 'NaN',\n",
       " 'from_this_person_to_poi': 'NaN',\n",
       " 'loan_advances': 'NaN',\n",
       " 'long_term_incentive': 'NaN',\n",
       " 'other': 'NaN',\n",
       " 'poi': False,\n",
       " 'restricted_stock': 'NaN',\n",
       " 'restricted_stock_deferred': 'NaN',\n",
       " 'salary': 'NaN',\n",
       " 'shared_receipt_with_poi': 'NaN',\n",
       " 'to_messages': 'NaN',\n",
       " 'total_payments': 'NaN',\n",
       " 'total_stock_value': 'NaN'}"
      ]
     },
     "execution_count": 21,
     "metadata": {},
     "output_type": "execute_result"
    }
   ],
   "source": [
    "enron_dict['LOCKHART EUGENE E']"
   ]
  },
  {
   "cell_type": "code",
   "execution_count": 22,
   "metadata": {
    "collapsed": false
   },
   "outputs": [
    {
     "name": "stdout",
     "output_type": "stream",
     "text": [
      "89\n"
     ]
    }
   ],
   "source": [
    "lockhart_index = enron_dict.keys().index('LOCKHART EUGENE E')\n",
    "print lockhart_index\n",
    "df_imp_sub = df_imp.drop(df_imp.index[[lockhart_index]])"
   ]
  },
  {
   "cell_type": "markdown",
   "metadata": {},
   "source": [
    "'THE TRAVEL AGENCY IN THE PARK' was removed since it is not a person.\n",
    "Eugene E. Lockhart was removed during data processing since this row had no entries for any feature."
   ]
  },
  {
   "cell_type": "markdown",
   "metadata": {},
   "source": [
    "### Optimize Feature Selection/Engineering"
   ]
  },
  {
   "cell_type": "markdown",
   "metadata": {},
   "source": [
    "#### Create new features (related mini-project: Lesson 11)\n",
    "\n",
    "At least one new feature is implemented. Justification for that feature is provided in the written response, and the effect of that feature on the final algorithm performance is tested. The student is not required to include their new feature in their final feature set."
   ]
  },
  {
   "cell_type": "code",
   "execution_count": 23,
   "metadata": {
    "collapsed": true
   },
   "outputs": [],
   "source": [
    "# Rename datafram name after cleaning up NaN and outlier\n",
    "enron_df = df_imp_sub"
   ]
  },
  {
   "cell_type": "markdown",
   "metadata": {},
   "source": [
    "#### Study Financial Features "
   ]
  },
  {
   "cell_type": "code",
   "execution_count": 24,
   "metadata": {
    "collapsed": false
   },
   "outputs": [
    {
     "data": {
      "image/png": "[encoded data removed]",
      "text/plain": [
       "<matplotlib.figure.Figure at 0x11527da50>"
      ]
     },
     "metadata": {},
     "output_type": "display_data"
    }
   ],
   "source": [
    "# Graph for features\n",
    "\n",
    "import matplotlib.pyplot as plt\n",
    "\n",
    "plt.scatter(enron_df['salary'], enron_df['total_payments'])\n",
    "plt.xlabel(\"salary\")\n",
    "plt.ylabel(\"total_payments\")\n",
    "plt.show()"
   ]
  },
  {
   "cell_type": "code",
   "execution_count": 25,
   "metadata": {
    "collapsed": false
   },
   "outputs": [
    {
     "data": {
      "image/png": "[encoded data removed]",
      "text/plain": [
       "<matplotlib.figure.Figure at 0x1152d9450>"
      ]
     },
     "metadata": {},
     "output_type": "display_data"
    }
   ],
   "source": [
    "plt.scatter(enron_df['salary'], enron_df['total_stock_value'])\n",
    "plt.xlabel(\"salary\")\n",
    "plt.ylabel(\"total_stock_value\")\n",
    "plt.show()"
   ]
  },
  {
   "cell_type": "markdown",
   "metadata": {},
   "source": [
    "#### Create new features for financial features"
   ]
  },
  {
   "cell_type": "code",
   "execution_count": 62,
   "metadata": {
    "collapsed": false
   },
   "outputs": [
    {
     "data": {
      "text/html": [
       "<div>\n",
       "<table border=\"1\" class=\"dataframe\">\n",
       "  <thead>\n",
       "    <tr style=\"text-align: right;\">\n",
       "      <th></th>\n",
       "      <th>bonus</th>\n",
       "      <th>exercised_stock_options</th>\n",
       "      <th>expenses</th>\n",
       "      <th>from_messages</th>\n",
       "      <th>from_poi_to_this_person</th>\n",
       "      <th>from_this_person_to_poi</th>\n",
       "      <th>other</th>\n",
       "      <th>poi</th>\n",
       "      <th>restricted_stock</th>\n",
       "      <th>salary</th>\n",
       "      <th>shared_receipt_with_poi</th>\n",
       "      <th>to_messages</th>\n",
       "      <th>total_payments</th>\n",
       "      <th>total_stock_value</th>\n",
       "      <th>poi_ratio</th>\n",
       "      <th>fraction_to_poi</th>\n",
       "      <th>fraction_from_poi</th>\n",
       "    </tr>\n",
       "  </thead>\n",
       "  <tbody>\n",
       "  </tbody>\n",
       "</table>\n",
       "</div>"
      ],
      "text/plain": [
       "Empty DataFrame\n",
       "Columns: [bonus, exercised_stock_options, expenses, from_messages, from_poi_to_this_person, from_this_person_to_poi, other, poi, restricted_stock, salary, shared_receipt_with_poi, to_messages, total_payments, total_stock_value, poi_ratio, fraction_to_poi, fraction_from_poi]\n",
       "Index: []"
      ]
     },
     "execution_count": 62,
     "metadata": {},
     "output_type": "execute_result"
    }
   ],
   "source": [
    "enron_df[enron_df['total_stock_value'].isnull()]"
   ]
  },
  {
   "cell_type": "code",
   "execution_count": 69,
   "metadata": {
    "collapsed": true
   },
   "outputs": [],
   "source": [
    "# Create new features 'salary_of_total_payment' and 'salary_of_total_stock_value'\n",
    "enron_df['salary_of_total_payments'] = 0.0\n",
    "enron_df['salary_of_total_stock_value'] = 0.0\n",
    "enron_df.loc[enron_df['total_payments'] != 0.0,'salary_of_total_payments'] = enron_df['salary'] / enron_df['total_payments'] * 100\n",
    "enron_df.loc[enron_df['total_stock_value'] != 0.0,'salary_of_total_stock_value'] = enron_df['salary'] / enron_df['total_stock_value'] * 100"
   ]
  },
  {
   "cell_type": "code",
   "execution_count": 73,
   "metadata": {
    "collapsed": false
   },
   "outputs": [
    {
     "data": {
      "text/html": [
       "<div>\n",
       "<table border=\"1\" class=\"dataframe\">\n",
       "  <thead>\n",
       "    <tr style=\"text-align: right;\">\n",
       "      <th></th>\n",
       "      <th>bonus</th>\n",
       "      <th>exercised_stock_options</th>\n",
       "      <th>expenses</th>\n",
       "      <th>from_messages</th>\n",
       "      <th>from_poi_to_this_person</th>\n",
       "      <th>from_this_person_to_poi</th>\n",
       "      <th>other</th>\n",
       "      <th>poi</th>\n",
       "      <th>restricted_stock</th>\n",
       "      <th>salary</th>\n",
       "      <th>shared_receipt_with_poi</th>\n",
       "      <th>to_messages</th>\n",
       "      <th>total_payments</th>\n",
       "      <th>total_stock_value</th>\n",
       "      <th>poi_ratio</th>\n",
       "      <th>fraction_to_poi</th>\n",
       "      <th>fraction_from_poi</th>\n",
       "      <th>salary_of_total_payments</th>\n",
       "      <th>salary_of_total_stock_value</th>\n",
       "    </tr>\n",
       "  </thead>\n",
       "  <tbody>\n",
       "    <tr>\n",
       "      <th>0</th>\n",
       "      <td>600000.0</td>\n",
       "      <td>0.0</td>\n",
       "      <td>94299.0</td>\n",
       "      <td>29.0</td>\n",
       "      <td>38.0</td>\n",
       "      <td>1.0</td>\n",
       "      <td>1740.0</td>\n",
       "      <td>False</td>\n",
       "      <td>585062.0</td>\n",
       "      <td>365788.0</td>\n",
       "      <td>702.0</td>\n",
       "      <td>807.0</td>\n",
       "      <td>1061827.0</td>\n",
       "      <td>585062.0</td>\n",
       "      <td>4.665072</td>\n",
       "      <td>3.448276</td>\n",
       "      <td>4.708798</td>\n",
       "      <td>34.448926</td>\n",
       "      <td>62.521237</td>\n",
       "    </tr>\n",
       "    <tr>\n",
       "      <th>1</th>\n",
       "      <td>1200000.0</td>\n",
       "      <td>6680544.0</td>\n",
       "      <td>11200.0</td>\n",
       "      <td>0.0</td>\n",
       "      <td>0.0</td>\n",
       "      <td>0.0</td>\n",
       "      <td>2660303.0</td>\n",
       "      <td>False</td>\n",
       "      <td>3942714.0</td>\n",
       "      <td>267102.0</td>\n",
       "      <td>0.0</td>\n",
       "      <td>0.0</td>\n",
       "      <td>5634343.0</td>\n",
       "      <td>10623258.0</td>\n",
       "      <td>0.000000</td>\n",
       "      <td>0.000000</td>\n",
       "      <td>0.000000</td>\n",
       "      <td>4.740606</td>\n",
       "      <td>2.514313</td>\n",
       "    </tr>\n",
       "    <tr>\n",
       "      <th>2</th>\n",
       "      <td>350000.0</td>\n",
       "      <td>4890344.0</td>\n",
       "      <td>78552.0</td>\n",
       "      <td>0.0</td>\n",
       "      <td>0.0</td>\n",
       "      <td>0.0</td>\n",
       "      <td>12961.0</td>\n",
       "      <td>False</td>\n",
       "      <td>1788391.0</td>\n",
       "      <td>170941.0</td>\n",
       "      <td>0.0</td>\n",
       "      <td>0.0</td>\n",
       "      <td>211725.0</td>\n",
       "      <td>6678735.0</td>\n",
       "      <td>0.000000</td>\n",
       "      <td>0.000000</td>\n",
       "      <td>0.000000</td>\n",
       "      <td>80.737277</td>\n",
       "      <td>2.559482</td>\n",
       "    </tr>\n",
       "    <tr>\n",
       "      <th>3</th>\n",
       "      <td>0.0</td>\n",
       "      <td>651850.0</td>\n",
       "      <td>0.0</td>\n",
       "      <td>12.0</td>\n",
       "      <td>10.0</td>\n",
       "      <td>0.0</td>\n",
       "      <td>0.0</td>\n",
       "      <td>False</td>\n",
       "      <td>386335.0</td>\n",
       "      <td>0.0</td>\n",
       "      <td>58.0</td>\n",
       "      <td>764.0</td>\n",
       "      <td>0.0</td>\n",
       "      <td>1038185.0</td>\n",
       "      <td>1.288660</td>\n",
       "      <td>0.000000</td>\n",
       "      <td>1.308901</td>\n",
       "      <td>0.000000</td>\n",
       "      <td>0.000000</td>\n",
       "    </tr>\n",
       "    <tr>\n",
       "      <th>4</th>\n",
       "      <td>1500000.0</td>\n",
       "      <td>5538001.0</td>\n",
       "      <td>34039.0</td>\n",
       "      <td>32.0</td>\n",
       "      <td>32.0</td>\n",
       "      <td>21.0</td>\n",
       "      <td>11350.0</td>\n",
       "      <td>True</td>\n",
       "      <td>853064.0</td>\n",
       "      <td>243293.0</td>\n",
       "      <td>1035.0</td>\n",
       "      <td>1045.0</td>\n",
       "      <td>288682.0</td>\n",
       "      <td>6391065.0</td>\n",
       "      <td>4.921077</td>\n",
       "      <td>65.625000</td>\n",
       "      <td>3.062201</td>\n",
       "      <td>84.277163</td>\n",
       "      <td>3.806768</td>\n",
       "    </tr>\n",
       "  </tbody>\n",
       "</table>\n",
       "</div>"
      ],
      "text/plain": [
       "       bonus  exercised_stock_options  expenses  from_messages  \\\n",
       "0   600000.0                      0.0   94299.0           29.0   \n",
       "1  1200000.0                6680544.0   11200.0            0.0   \n",
       "2   350000.0                4890344.0   78552.0            0.0   \n",
       "3        0.0                 651850.0       0.0           12.0   \n",
       "4  1500000.0                5538001.0   34039.0           32.0   \n",
       "\n",
       "   from_poi_to_this_person  from_this_person_to_poi      other    poi  \\\n",
       "0                     38.0                      1.0     1740.0  False   \n",
       "1                      0.0                      0.0  2660303.0  False   \n",
       "2                      0.0                      0.0    12961.0  False   \n",
       "3                     10.0                      0.0        0.0  False   \n",
       "4                     32.0                     21.0    11350.0   True   \n",
       "\n",
       "   restricted_stock    salary  shared_receipt_with_poi  to_messages  \\\n",
       "0          585062.0  365788.0                    702.0        807.0   \n",
       "1         3942714.0  267102.0                      0.0          0.0   \n",
       "2         1788391.0  170941.0                      0.0          0.0   \n",
       "3          386335.0       0.0                     58.0        764.0   \n",
       "4          853064.0  243293.0                   1035.0       1045.0   \n",
       "\n",
       "   total_payments  total_stock_value  poi_ratio  fraction_to_poi  \\\n",
       "0       1061827.0           585062.0   4.665072         3.448276   \n",
       "1       5634343.0         10623258.0   0.000000         0.000000   \n",
       "2        211725.0          6678735.0   0.000000         0.000000   \n",
       "3             0.0          1038185.0   1.288660         0.000000   \n",
       "4        288682.0          6391065.0   4.921077        65.625000   \n",
       "\n",
       "   fraction_from_poi  salary_of_total_payments  salary_of_total_stock_value  \n",
       "0           4.708798                 34.448926                    62.521237  \n",
       "1           0.000000                  4.740606                     2.514313  \n",
       "2           0.000000                 80.737277                     2.559482  \n",
       "3           1.308901                  0.000000                     0.000000  \n",
       "4           3.062201                 84.277163                     3.806768  "
      ]
     },
     "execution_count": 73,
     "metadata": {},
     "output_type": "execute_result"
    }
   ],
   "source": [
    "enron_df.head()"
   ]
  },
  {
   "cell_type": "code",
   "execution_count": 71,
   "metadata": {
    "collapsed": false
   },
   "outputs": [
    {
     "data": {
      "image/png": "[encoded data removed]",
      "text/plain": [
       "<matplotlib.figure.Figure at 0x117da0390>"
      ]
     },
     "metadata": {},
     "output_type": "display_data"
    }
   ],
   "source": [
    "# Graph 'salary_of_total_payment' and 'salary_of_total_stock_value' to salary\n",
    "plt.scatter(enron_df['salary'], enron_df['salary_of_total_payments'], color='blue')\n",
    "plt.scatter(enron_df['salary'], enron_df['salary_of_total_stock_value'], color='red')\n",
    "plt.xlabel('Salary')\n",
    "plt.ylabel('Of Total Payment / Of Total Stock Value')\n",
    "plt.show()\n"
   ]
  },
  {
   "cell_type": "markdown",
   "metadata": {},
   "source": [
    "#### Create new features for email related features"
   ]
  },
  {
   "cell_type": "code",
   "execution_count": null,
   "metadata": {
    "collapsed": true
   },
   "outputs": [],
   "source": [
    "# Mark as fraud for those with outrageous compensation\n",
    "def outlierCleaner(predictions, ages, net_worths):\n",
    "    \"\"\"\n",
    "        Clean away the 10% of points that have the largest\n",
    "        residual errors (difference between the prediction\n",
    "        and the actual net worth).\n",
    "\n",
    "        Return a list of tuples named cleaned_data where\n",
    "        each tuple is of the form (age, net_worth, error).\n",
    "    \"\"\"\n",
    "\n",
    "    cleaned_data = []\n",
    "\n",
    "    #print 'starting clean read data to tuple'\n",
    "    #print 'length:', len(predictions)\n",
    "    ### your code goes here\n",
    "    for i in range(0, len(predictions)):\n",
    "        age = ages[i][0]\n",
    "        net_worth = net_worths[i][0]\n",
    "        pred = predictions[i][0]\n",
    "        err = net_worth - pred\n",
    "\n",
    "        cleaned_data.append((age, net_worth, err))\n",
    "\n",
    "    #print 'length of cleaned_data before sort:', len(cleaned_data)\n",
    "    cleaned_data = sorted(cleaned_data, key=lambda x: x[2], reverse=True)[0:81]\n",
    "    #print cleaned_data[-1]\n",
    "\n",
    "    print 'length of cleaned_data:', len(cleaned_data)\n",
    "    return cleaned_data\n"
   ]
  },
  {
   "cell_type": "markdown",
   "metadata": {},
   "source": [
    "Create column 'poi_ratio' to store POI related message ratio in percentages. \n",
    "\n",
    "Also will be added next features:\n",
    "the fraction of all emails to a person that were sent from a person of interest\n",
    "the fraction of all emails that a person sent that were addressed to persons of interest\n",
    "\n",
    "The hypothesis behind these features was that there might be stronger email connections between POIs than between \n",
    "POIs and non-POIs, and a scatterplot of these two features suggests that there might be some truth to that hypothesis.\n",
    "\n",
    "Additionally I want to scale 'salary' to range [0,100]."
   ]
  },
  {
   "cell_type": "code",
   "execution_count": 34,
   "metadata": {
    "collapsed": false
   },
   "outputs": [],
   "source": [
    "enron_df['poi_ratio'] = 0.0\n",
    "enron_df['fraction_to_poi'] = 0.0\n",
    "enron_df['fraction_from_poi'] = 0.0\n",
    "\n",
    "enron_df.loc[(enron_df['from_messages'] + enron_df['to_messages']) != 0.0, 'poi_ratio'] = (enron_df['from_poi_to_this_person'] + enron_df['from_this_person_to_poi']) / (enron_df['from_messages'] + enron_df['to_messages']) * 100\n",
    "enron_df.loc[enron_df['from_messages'] != 0.0, 'fraction_to_poi'] = enron_df['from_this_person_to_poi'] / enron_df['from_messages'] * 100\n",
    "enron_df.loc[enron_df['to_messages'] != 0.0, 'fraction_from_poi']= enron_df['from_poi_to_this_person'] / enron_df['to_messages'] * 100\n"
   ]
  },
  {
   "cell_type": "code",
   "execution_count": 41,
   "metadata": {
    "collapsed": false
   },
   "outputs": [
    {
     "data": {
      "image/png": "[encoded data removed]",
      "text/plain": [
       "<matplotlib.figure.Figure at 0x117d659d0>"
      ]
     },
     "metadata": {},
     "output_type": "display_data"
    }
   ],
   "source": [
    "# Graph 'fraction_to_poi' and 'fraction_from_poi' to salary\n",
    "plt.scatter(enron_df['salary'], enron_df['fraction_to_poi'], color='blue')\n",
    "plt.scatter(enron_df['salary'], enron_df['fraction_from_poi'], color='red')\n",
    "plt.xlabel('Salary')\n",
    "plt.ylabel('Fraction')\n",
    "plt.show()\n"
   ]
  },
  {
   "cell_type": "code",
   "execution_count": 35,
   "metadata": {
    "collapsed": false
   },
   "outputs": [
    {
     "data": {
      "text/html": [
       "<div>\n",
       "<table border=\"1\" class=\"dataframe\">\n",
       "  <thead>\n",
       "    <tr style=\"text-align: right;\">\n",
       "      <th></th>\n",
       "      <th>bonus</th>\n",
       "      <th>exercised_stock_options</th>\n",
       "      <th>expenses</th>\n",
       "      <th>from_messages</th>\n",
       "      <th>from_poi_to_this_person</th>\n",
       "      <th>from_this_person_to_poi</th>\n",
       "      <th>other</th>\n",
       "      <th>poi</th>\n",
       "      <th>restricted_stock</th>\n",
       "      <th>salary</th>\n",
       "      <th>shared_receipt_with_poi</th>\n",
       "      <th>to_messages</th>\n",
       "      <th>total_payments</th>\n",
       "      <th>total_stock_value</th>\n",
       "      <th>poi_ratio</th>\n",
       "      <th>fraction_to_poi</th>\n",
       "      <th>fraction_from_poi</th>\n",
       "    </tr>\n",
       "  </thead>\n",
       "  <tbody>\n",
       "    <tr>\n",
       "      <th>0</th>\n",
       "      <td>600000.0</td>\n",
       "      <td>0.0</td>\n",
       "      <td>94299.0</td>\n",
       "      <td>29.0</td>\n",
       "      <td>38.0</td>\n",
       "      <td>1.0</td>\n",
       "      <td>1740.0</td>\n",
       "      <td>False</td>\n",
       "      <td>585062.0</td>\n",
       "      <td>365788.0</td>\n",
       "      <td>702.0</td>\n",
       "      <td>807.0</td>\n",
       "      <td>1061827.0</td>\n",
       "      <td>585062.0</td>\n",
       "      <td>4.665072</td>\n",
       "      <td>3.448276</td>\n",
       "      <td>4.708798</td>\n",
       "    </tr>\n",
       "    <tr>\n",
       "      <th>1</th>\n",
       "      <td>1200000.0</td>\n",
       "      <td>6680544.0</td>\n",
       "      <td>11200.0</td>\n",
       "      <td>0.0</td>\n",
       "      <td>0.0</td>\n",
       "      <td>0.0</td>\n",
       "      <td>2660303.0</td>\n",
       "      <td>False</td>\n",
       "      <td>3942714.0</td>\n",
       "      <td>267102.0</td>\n",
       "      <td>0.0</td>\n",
       "      <td>0.0</td>\n",
       "      <td>5634343.0</td>\n",
       "      <td>10623258.0</td>\n",
       "      <td>0.000000</td>\n",
       "      <td>0.000000</td>\n",
       "      <td>0.000000</td>\n",
       "    </tr>\n",
       "    <tr>\n",
       "      <th>2</th>\n",
       "      <td>350000.0</td>\n",
       "      <td>4890344.0</td>\n",
       "      <td>78552.0</td>\n",
       "      <td>0.0</td>\n",
       "      <td>0.0</td>\n",
       "      <td>0.0</td>\n",
       "      <td>12961.0</td>\n",
       "      <td>False</td>\n",
       "      <td>1788391.0</td>\n",
       "      <td>170941.0</td>\n",
       "      <td>0.0</td>\n",
       "      <td>0.0</td>\n",
       "      <td>211725.0</td>\n",
       "      <td>6678735.0</td>\n",
       "      <td>0.000000</td>\n",
       "      <td>0.000000</td>\n",
       "      <td>0.000000</td>\n",
       "    </tr>\n",
       "    <tr>\n",
       "      <th>3</th>\n",
       "      <td>0.0</td>\n",
       "      <td>651850.0</td>\n",
       "      <td>0.0</td>\n",
       "      <td>12.0</td>\n",
       "      <td>10.0</td>\n",
       "      <td>0.0</td>\n",
       "      <td>0.0</td>\n",
       "      <td>False</td>\n",
       "      <td>386335.0</td>\n",
       "      <td>0.0</td>\n",
       "      <td>58.0</td>\n",
       "      <td>764.0</td>\n",
       "      <td>0.0</td>\n",
       "      <td>1038185.0</td>\n",
       "      <td>1.288660</td>\n",
       "      <td>0.000000</td>\n",
       "      <td>1.308901</td>\n",
       "    </tr>\n",
       "    <tr>\n",
       "      <th>4</th>\n",
       "      <td>1500000.0</td>\n",
       "      <td>5538001.0</td>\n",
       "      <td>34039.0</td>\n",
       "      <td>32.0</td>\n",
       "      <td>32.0</td>\n",
       "      <td>21.0</td>\n",
       "      <td>11350.0</td>\n",
       "      <td>True</td>\n",
       "      <td>853064.0</td>\n",
       "      <td>243293.0</td>\n",
       "      <td>1035.0</td>\n",
       "      <td>1045.0</td>\n",
       "      <td>288682.0</td>\n",
       "      <td>6391065.0</td>\n",
       "      <td>4.921077</td>\n",
       "      <td>65.625000</td>\n",
       "      <td>3.062201</td>\n",
       "    </tr>\n",
       "  </tbody>\n",
       "</table>\n",
       "</div>"
      ],
      "text/plain": [
       "       bonus  exercised_stock_options  expenses  from_messages  \\\n",
       "0   600000.0                      0.0   94299.0           29.0   \n",
       "1  1200000.0                6680544.0   11200.0            0.0   \n",
       "2   350000.0                4890344.0   78552.0            0.0   \n",
       "3        0.0                 651850.0       0.0           12.0   \n",
       "4  1500000.0                5538001.0   34039.0           32.0   \n",
       "\n",
       "   from_poi_to_this_person  from_this_person_to_poi      other    poi  \\\n",
       "0                     38.0                      1.0     1740.0  False   \n",
       "1                      0.0                      0.0  2660303.0  False   \n",
       "2                      0.0                      0.0    12961.0  False   \n",
       "3                     10.0                      0.0        0.0  False   \n",
       "4                     32.0                     21.0    11350.0   True   \n",
       "\n",
       "   restricted_stock    salary  shared_receipt_with_poi  to_messages  \\\n",
       "0          585062.0  365788.0                    702.0        807.0   \n",
       "1         3942714.0  267102.0                      0.0          0.0   \n",
       "2         1788391.0  170941.0                      0.0          0.0   \n",
       "3          386335.0       0.0                     58.0        764.0   \n",
       "4          853064.0  243293.0                   1035.0       1045.0   \n",
       "\n",
       "   total_payments  total_stock_value  poi_ratio  fraction_to_poi  \\\n",
       "0       1061827.0           585062.0   4.665072         3.448276   \n",
       "1       5634343.0         10623258.0   0.000000         0.000000   \n",
       "2        211725.0          6678735.0   0.000000         0.000000   \n",
       "3             0.0          1038185.0   1.288660         0.000000   \n",
       "4        288682.0          6391065.0   4.921077        65.625000   \n",
       "\n",
       "   fraction_from_poi  \n",
       "0           4.708798  \n",
       "1           0.000000  \n",
       "2           0.000000  \n",
       "3           1.308901  \n",
       "4           3.062201  "
      ]
     },
     "execution_count": 35,
     "metadata": {},
     "output_type": "execute_result"
    }
   ],
   "source": [
    "enron_df.head()"
   ]
  },
  {
   "cell_type": "code",
   "execution_count": 38,
   "metadata": {
    "collapsed": false
   },
   "outputs": [
    {
     "data": {
      "text/html": [
       "<div>\n",
       "<table border=\"1\" class=\"dataframe\">\n",
       "  <thead>\n",
       "    <tr style=\"text-align: right;\">\n",
       "      <th></th>\n",
       "      <th>bonus</th>\n",
       "      <th>exercised_stock_options</th>\n",
       "      <th>expenses</th>\n",
       "      <th>from_messages</th>\n",
       "      <th>from_poi_to_this_person</th>\n",
       "      <th>from_this_person_to_poi</th>\n",
       "      <th>other</th>\n",
       "      <th>restricted_stock</th>\n",
       "      <th>salary</th>\n",
       "      <th>shared_receipt_with_poi</th>\n",
       "      <th>to_messages</th>\n",
       "      <th>total_payments</th>\n",
       "      <th>total_stock_value</th>\n",
       "      <th>poi_ratio</th>\n",
       "      <th>fraction_to_poi</th>\n",
       "      <th>fraction_from_poi</th>\n",
       "    </tr>\n",
       "  </thead>\n",
       "  <tbody>\n",
       "    <tr>\n",
       "      <th>count</th>\n",
       "      <td>1.420000e+02</td>\n",
       "      <td>1.420000e+02</td>\n",
       "      <td>142.000000</td>\n",
       "      <td>142.000000</td>\n",
       "      <td>142.000000</td>\n",
       "      <td>142.000000</td>\n",
       "      <td>1.420000e+02</td>\n",
       "      <td>1.420000e+02</td>\n",
       "      <td>1.420000e+02</td>\n",
       "      <td>142.000000</td>\n",
       "      <td>142.000000</td>\n",
       "      <td>1.420000e+02</td>\n",
       "      <td>1.420000e+02</td>\n",
       "      <td>142.000000</td>\n",
       "      <td>142.000000</td>\n",
       "      <td>142.000000</td>\n",
       "    </tr>\n",
       "    <tr>\n",
       "      <th>mean</th>\n",
       "      <td>5.967860e+05</td>\n",
       "      <td>1.727585e+06</td>\n",
       "      <td>34963.950704</td>\n",
       "      <td>367.690141</td>\n",
       "      <td>37.816901</td>\n",
       "      <td>24.647887</td>\n",
       "      <td>2.283352e+05</td>\n",
       "      <td>7.286187e+05</td>\n",
       "      <td>1.726806e+05</td>\n",
       "      <td>681.147887</td>\n",
       "      <td>1200.366197</td>\n",
       "      <td>1.500435e+06</td>\n",
       "      <td>2.421165e+06</td>\n",
       "      <td>2.844448</td>\n",
       "      <td>10.638415</td>\n",
       "      <td>2.261809</td>\n",
       "    </tr>\n",
       "    <tr>\n",
       "      <th>std</th>\n",
       "      <td>1.039388e+06</td>\n",
       "      <td>3.704389e+06</td>\n",
       "      <td>45300.747867</td>\n",
       "      <td>1460.502581</td>\n",
       "      <td>74.342949</td>\n",
       "      <td>80.337515</td>\n",
       "      <td>7.576489e+05</td>\n",
       "      <td>1.575560e+06</td>\n",
       "      <td>1.659968e+05</td>\n",
       "      <td>1069.172948</td>\n",
       "      <td>2229.457770</td>\n",
       "      <td>2.391881e+06</td>\n",
       "      <td>4.433593e+06</td>\n",
       "      <td>4.312736</td>\n",
       "      <td>18.454284</td>\n",
       "      <td>3.667065</td>\n",
       "    </tr>\n",
       "    <tr>\n",
       "      <th>min</th>\n",
       "      <td>0.000000e+00</td>\n",
       "      <td>0.000000e+00</td>\n",
       "      <td>0.000000</td>\n",
       "      <td>0.000000</td>\n",
       "      <td>0.000000</td>\n",
       "      <td>0.000000</td>\n",
       "      <td>0.000000e+00</td>\n",
       "      <td>-2.604490e+06</td>\n",
       "      <td>0.000000e+00</td>\n",
       "      <td>0.000000</td>\n",
       "      <td>0.000000</td>\n",
       "      <td>0.000000e+00</td>\n",
       "      <td>-4.409300e+04</td>\n",
       "      <td>0.000000</td>\n",
       "      <td>0.000000</td>\n",
       "      <td>0.000000</td>\n",
       "    </tr>\n",
       "    <tr>\n",
       "      <th>25%</th>\n",
       "      <td>0.000000e+00</td>\n",
       "      <td>0.000000e+00</td>\n",
       "      <td>0.000000</td>\n",
       "      <td>0.000000</td>\n",
       "      <td>0.000000</td>\n",
       "      <td>0.000000</td>\n",
       "      <td>0.000000e+00</td>\n",
       "      <td>8.115000e+03</td>\n",
       "      <td>0.000000e+00</td>\n",
       "      <td>0.000000</td>\n",
       "      <td>0.000000</td>\n",
       "      <td>9.394475e+04</td>\n",
       "      <td>2.288695e+05</td>\n",
       "      <td>0.000000</td>\n",
       "      <td>0.000000</td>\n",
       "      <td>0.000000</td>\n",
       "    </tr>\n",
       "    <tr>\n",
       "      <th>50%</th>\n",
       "      <td>2.750000e+05</td>\n",
       "      <td>6.046375e+05</td>\n",
       "      <td>18094.500000</td>\n",
       "      <td>16.500000</td>\n",
       "      <td>2.500000</td>\n",
       "      <td>0.000000</td>\n",
       "      <td>9.190000e+02</td>\n",
       "      <td>3.535955e+05</td>\n",
       "      <td>2.083105e+05</td>\n",
       "      <td>102.500000</td>\n",
       "      <td>289.000000</td>\n",
       "      <td>9.138250e+05</td>\n",
       "      <td>9.551135e+05</td>\n",
       "      <td>0.787407</td>\n",
       "      <td>0.000000</td>\n",
       "      <td>0.297659</td>\n",
       "    </tr>\n",
       "    <tr>\n",
       "      <th>75%</th>\n",
       "      <td>8.000000e+05</td>\n",
       "      <td>1.636585e+06</td>\n",
       "      <td>52905.250000</td>\n",
       "      <td>51.250000</td>\n",
       "      <td>39.750000</td>\n",
       "      <td>12.750000</td>\n",
       "      <td>1.498310e+05</td>\n",
       "      <td>6.892030e+05</td>\n",
       "      <td>2.670998e+05</td>\n",
       "      <td>871.500000</td>\n",
       "      <td>1513.000000</td>\n",
       "      <td>1.863625e+06</td>\n",
       "      <td>2.218031e+06</td>\n",
       "      <td>4.367335</td>\n",
       "      <td>16.995688</td>\n",
       "      <td>3.012120</td>\n",
       "    </tr>\n",
       "    <tr>\n",
       "      <th>max</th>\n",
       "      <td>8.000000e+06</td>\n",
       "      <td>3.076606e+07</td>\n",
       "      <td>228763.000000</td>\n",
       "      <td>14368.000000</td>\n",
       "      <td>528.000000</td>\n",
       "      <td>609.000000</td>\n",
       "      <td>7.427621e+06</td>\n",
       "      <td>1.384707e+07</td>\n",
       "      <td>1.060932e+06</td>\n",
       "      <td>5521.000000</td>\n",
       "      <td>15149.000000</td>\n",
       "      <td>1.725253e+07</td>\n",
       "      <td>3.076606e+07</td>\n",
       "      <td>22.435175</td>\n",
       "      <td>100.000000</td>\n",
       "      <td>21.734104</td>\n",
       "    </tr>\n",
       "  </tbody>\n",
       "</table>\n",
       "</div>"
      ],
      "text/plain": [
       "              bonus  exercised_stock_options       expenses  from_messages  \\\n",
       "count  1.420000e+02             1.420000e+02     142.000000     142.000000   \n",
       "mean   5.967860e+05             1.727585e+06   34963.950704     367.690141   \n",
       "std    1.039388e+06             3.704389e+06   45300.747867    1460.502581   \n",
       "min    0.000000e+00             0.000000e+00       0.000000       0.000000   \n",
       "25%    0.000000e+00             0.000000e+00       0.000000       0.000000   \n",
       "50%    2.750000e+05             6.046375e+05   18094.500000      16.500000   \n",
       "75%    8.000000e+05             1.636585e+06   52905.250000      51.250000   \n",
       "max    8.000000e+06             3.076606e+07  228763.000000   14368.000000   \n",
       "\n",
       "       from_poi_to_this_person  from_this_person_to_poi         other  \\\n",
       "count               142.000000               142.000000  1.420000e+02   \n",
       "mean                 37.816901                24.647887  2.283352e+05   \n",
       "std                  74.342949                80.337515  7.576489e+05   \n",
       "min                   0.000000                 0.000000  0.000000e+00   \n",
       "25%                   0.000000                 0.000000  0.000000e+00   \n",
       "50%                   2.500000                 0.000000  9.190000e+02   \n",
       "75%                  39.750000                12.750000  1.498310e+05   \n",
       "max                 528.000000               609.000000  7.427621e+06   \n",
       "\n",
       "       restricted_stock        salary  shared_receipt_with_poi   to_messages  \\\n",
       "count      1.420000e+02  1.420000e+02               142.000000    142.000000   \n",
       "mean       7.286187e+05  1.726806e+05               681.147887   1200.366197   \n",
       "std        1.575560e+06  1.659968e+05              1069.172948   2229.457770   \n",
       "min       -2.604490e+06  0.000000e+00                 0.000000      0.000000   \n",
       "25%        8.115000e+03  0.000000e+00                 0.000000      0.000000   \n",
       "50%        3.535955e+05  2.083105e+05               102.500000    289.000000   \n",
       "75%        6.892030e+05  2.670998e+05               871.500000   1513.000000   \n",
       "max        1.384707e+07  1.060932e+06              5521.000000  15149.000000   \n",
       "\n",
       "       total_payments  total_stock_value   poi_ratio  fraction_to_poi  \\\n",
       "count    1.420000e+02       1.420000e+02  142.000000       142.000000   \n",
       "mean     1.500435e+06       2.421165e+06    2.844448        10.638415   \n",
       "std      2.391881e+06       4.433593e+06    4.312736        18.454284   \n",
       "min      0.000000e+00      -4.409300e+04    0.000000         0.000000   \n",
       "25%      9.394475e+04       2.288695e+05    0.000000         0.000000   \n",
       "50%      9.138250e+05       9.551135e+05    0.787407         0.000000   \n",
       "75%      1.863625e+06       2.218031e+06    4.367335        16.995688   \n",
       "max      1.725253e+07       3.076606e+07   22.435175       100.000000   \n",
       "\n",
       "       fraction_from_poi  \n",
       "count         142.000000  \n",
       "mean            2.261809  \n",
       "std             3.667065  \n",
       "min             0.000000  \n",
       "25%             0.000000  \n",
       "50%             0.297659  \n",
       "75%             3.012120  \n",
       "max            21.734104  "
      ]
     },
     "execution_count": 38,
     "metadata": {},
     "output_type": "execute_result"
    }
   ],
   "source": [
    "enron_df.describe()"
   ]
  },
  {
   "cell_type": "code",
   "execution_count": 83,
   "metadata": {
    "collapsed": false
   },
   "outputs": [
    {
     "name": "stdout",
     "output_type": "stream",
     "text": [
      "<class 'pandas.core.frame.DataFrame'>\n",
      "Int64Index: 142 entries, 0 to 142\n",
      "Data columns (total 19 columns):\n",
      "bonus                          142 non-null float64\n",
      "exercised_stock_options        142 non-null float64\n",
      "expenses                       142 non-null float64\n",
      "from_messages                  142 non-null float64\n",
      "from_poi_to_this_person        142 non-null float64\n",
      "from_this_person_to_poi        142 non-null float64\n",
      "other                          142 non-null float64\n",
      "poi                            142 non-null bool\n",
      "restricted_stock               142 non-null float64\n",
      "salary                         142 non-null float64\n",
      "shared_receipt_with_poi        142 non-null float64\n",
      "to_messages                    142 non-null float64\n",
      "total_payments                 142 non-null float64\n",
      "total_stock_value              142 non-null float64\n",
      "poi_ratio                      142 non-null float64\n",
      "fraction_to_poi                142 non-null float64\n",
      "fraction_from_poi              142 non-null float64\n",
      "salary_of_total_payments       142 non-null float64\n",
      "salary_of_total_stock_value    142 non-null float64\n",
      "dtypes: bool(1), float64(18)\n",
      "memory usage: 21.2 KB\n"
     ]
    }
   ],
   "source": [
    "enron_df.info()"
   ]
  },
  {
   "cell_type": "markdown",
   "metadata": {},
   "source": [
    "#### Set up features, labels, and predictors"
   ]
  },
  {
   "cell_type": "code",
   "execution_count": 85,
   "metadata": {
    "collapsed": false
   },
   "outputs": [
    {
     "name": "stdout",
     "output_type": "stream",
     "text": [
      "[0 0 0 0 1 0 0 0 0 0 0 0 0 0 0 0 1 0 0 0 0 0 0 0 0 0 0 0 0 0 1 0 0 0 0 0 0\n",
      " 0 0 0 0 1 0 0 0 0 0 0 0 0 0 0 0 1 0 0 0 0 0 0 1 0 0 0 0 0 0 0 0 0 0 0 0 0\n",
      " 0 1 0 1 0 0 0 0 1 0 0 0 1 1 0 0 0 0 0 0 0 0 0 0 0 0 0 0 0 0 0 0 0 0 0 0 0\n",
      " 0 0 0 0 0 0 0 0 0 0 1 1 0 0 0 0 0 0 0 0 1 0 0 0 0 0 0 1 0 0 1]\n",
      "[[  6.00000000e+05   0.00000000e+00   9.42990000e+04 ...,   4.70879802e+00\n",
      "    3.44489262e+01   6.25212371e+01]\n",
      " [  1.20000000e+06   6.68054400e+06   1.12000000e+04 ...,   0.00000000e+00\n",
      "    4.74060596e+00   2.51431341e+00]\n",
      " [  3.50000000e+05   4.89034400e+06   7.85520000e+04 ...,   0.00000000e+00\n",
      "    8.07372771e+01   2.55948170e+00]\n",
      " ..., \n",
      " [  6.00000000e+05   3.18125000e+06   0.00000000e+00 ...,   0.00000000e+00\n",
      "    2.42722596e+01   7.08172499e+00]\n",
      " [  8.00000000e+05   7.65920000e+05   9.62680000e+04 ...,   2.17341040e+01\n",
      "    3.18124829e+01   2.57728115e+01]\n",
      " [  6.00000000e+05   3.84728000e+05   1.25978000e+05 ...,   5.95647194e+00\n",
      "    2.16127060e+01   3.53190434e+01]]\n"
     ]
    }
   ],
   "source": [
    "# Split the data at first on training and test data. We will use Stratified Shuffle Split due to small dataset\n",
    "labels = enron_df['poi'].copy(deep=True).astype(int).as_matrix()\n",
    "\n",
    "#features = enron_df['total_payments', 'total_stock_value', 'poi_ratio', 'fraction_to_poi', 'fraction_from_poi'].as_matrix()\n",
    "features = (enron_df.drop('poi', axis=1)).fillna(0).copy(deep=True).as_matrix()\n",
    "\n",
    "print labels\n",
    "print features\n"
   ]
  },
  {
   "cell_type": "code",
   "execution_count": 87,
   "metadata": {
    "collapsed": false
   },
   "outputs": [
    {
     "name": "stdout",
     "output_type": "stream",
     "text": [
      "['bonus' 'exercised_stock_options' 'expenses' 'from_messages'\n",
      " 'from_poi_to_this_person' 'from_this_person_to_poi' 'other'\n",
      " 'restricted_stock' 'salary' 'shared_receipt_with_poi' 'to_messages'\n",
      " 'total_payments' 'total_stock_value' 'poi_ratio' 'fraction_to_poi'\n",
      " 'fraction_from_poi' 'salary_of_total_payments'\n",
      " 'salary_of_total_stock_value']\n"
     ]
    }
   ],
   "source": [
    "predictors = enron_df.drop('poi', axis=1).columns.values\n",
    "print predictors"
   ]
  },
  {
   "cell_type": "markdown",
   "metadata": {},
   "source": [
    "#### Intelligently select features (related mini-project: Lesson 11)\n",
    "\n",
    "Univariate or recursive feature selection is deployed, or features are selected by hand (different combinations of features are attempted, and the performance is documented for each one). Features that are selected are reported and the number of features selected is justified. For an algorithm that supports getting the feature importances (e.g. decision tree) or feature scores (e.g. SelectKBest), those are documented as well."
   ]
  },
  {
   "cell_type": "code",
   "execution_count": null,
   "metadata": {
    "collapsed": true
   },
   "outputs": [],
   "source": []
  },
  {
   "cell_type": "code",
   "execution_count": null,
   "metadata": {
    "collapsed": true
   },
   "outputs": [],
   "source": [
    "# Univariate or recursive feature selection is deployed\n"
   ]
  },
  {
   "cell_type": "code",
   "execution_count": null,
   "metadata": {
    "collapsed": true
   },
   "outputs": [],
   "source": []
  },
  {
   "cell_type": "code",
   "execution_count": 82,
   "metadata": {
    "collapsed": false
   },
   "outputs": [
    {
     "name": "stdout",
     "output_type": "stream",
     "text": [
      "[ 2.35626665  2.88848632  1.65599919  0.1296802   1.31856116  0.98654126\n",
      "  0.05354939  0.52053149  1.94139504  1.7822165   0.37191131  0.30646871\n",
      "  2.70040501  1.77734995  3.37791456  1.15444075  1.26596594  0.02791665]\n"
     ]
    },
    {
     "ename": "ValueError",
     "evalue": "incompatible sizes: argument 'height' must be length 19 or scalar",
     "output_type": "error",
     "traceback": [
      "\u001b[0;31m---------------------------------------------------------------------------\u001b[0m",
      "\u001b[0;31mValueError\u001b[0m                                Traceback (most recent call last)",
      "\u001b[0;32m<ipython-input-82-4fe84fa6a784>\u001b[0m in \u001b[0;36m<module>\u001b[0;34m()\u001b[0m\n\u001b[1;32m     25\u001b[0m \u001b[0mplt\u001b[0m\u001b[0;34m.\u001b[0m\u001b[0mtitle\u001b[0m\u001b[0;34m(\u001b[0m\u001b[0;34m\"Feature Importances\"\u001b[0m\u001b[0;34m)\u001b[0m\u001b[0;34m\u001b[0m\u001b[0m\n\u001b[1;32m     26\u001b[0m plt.bar(range(np.size(predictors)), scores[indices],\n\u001b[0;32m---> 27\u001b[0;31m        color=\"seagreen\", yerr=np.std([indices]), align=\"center\")\n\u001b[0m\u001b[1;32m     28\u001b[0m \u001b[0mplt\u001b[0m\u001b[0;34m.\u001b[0m\u001b[0mxticks\u001b[0m\u001b[0;34m(\u001b[0m\u001b[0mrange\u001b[0m\u001b[0;34m(\u001b[0m\u001b[0mnp\u001b[0m\u001b[0;34m.\u001b[0m\u001b[0msize\u001b[0m\u001b[0;34m(\u001b[0m\u001b[0mpredictors\u001b[0m\u001b[0;34m)\u001b[0m\u001b[0;34m)\u001b[0m\u001b[0;34m,\u001b[0m \u001b[0msorted_important_features\u001b[0m\u001b[0;34m,\u001b[0m \u001b[0mrotation\u001b[0m\u001b[0;34m=\u001b[0m\u001b[0;34m'vertical'\u001b[0m\u001b[0;34m)\u001b[0m\u001b[0;34m\u001b[0m\u001b[0m\n\u001b[1;32m     29\u001b[0m \u001b[0;34m\u001b[0m\u001b[0m\n",
      "\u001b[0;32m/Users/LiWang/anaconda/lib/python2.7/site-packages/matplotlib/pyplot.pyc\u001b[0m in \u001b[0;36mbar\u001b[0;34m(left, height, width, bottom, hold, data, **kwargs)\u001b[0m\n\u001b[1;32m   2648\u001b[0m     \u001b[0;32mtry\u001b[0m\u001b[0;34m:\u001b[0m\u001b[0;34m\u001b[0m\u001b[0m\n\u001b[1;32m   2649\u001b[0m         ret = ax.bar(left, height, width=width, bottom=bottom, data=data,\n\u001b[0;32m-> 2650\u001b[0;31m                      **kwargs)\n\u001b[0m\u001b[1;32m   2651\u001b[0m     \u001b[0;32mfinally\u001b[0m\u001b[0;34m:\u001b[0m\u001b[0;34m\u001b[0m\u001b[0m\n\u001b[1;32m   2652\u001b[0m         \u001b[0max\u001b[0m\u001b[0;34m.\u001b[0m\u001b[0mhold\u001b[0m\u001b[0;34m(\u001b[0m\u001b[0mwashold\u001b[0m\u001b[0;34m)\u001b[0m\u001b[0;34m\u001b[0m\u001b[0m\n",
      "\u001b[0;32m/Users/LiWang/anaconda/lib/python2.7/site-packages/matplotlib/__init__.pyc\u001b[0m in \u001b[0;36minner\u001b[0;34m(ax, *args, **kwargs)\u001b[0m\n\u001b[1;32m   1817\u001b[0m                     warnings.warn(msg % (label_namer, func.__name__),\n\u001b[1;32m   1818\u001b[0m                                   RuntimeWarning, stacklevel=2)\n\u001b[0;32m-> 1819\u001b[0;31m             \u001b[0;32mreturn\u001b[0m \u001b[0mfunc\u001b[0m\u001b[0;34m(\u001b[0m\u001b[0max\u001b[0m\u001b[0;34m,\u001b[0m \u001b[0;34m*\u001b[0m\u001b[0margs\u001b[0m\u001b[0;34m,\u001b[0m \u001b[0;34m**\u001b[0m\u001b[0mkwargs\u001b[0m\u001b[0;34m)\u001b[0m\u001b[0;34m\u001b[0m\u001b[0m\n\u001b[0m\u001b[1;32m   1820\u001b[0m         \u001b[0mpre_doc\u001b[0m \u001b[0;34m=\u001b[0m \u001b[0minner\u001b[0m\u001b[0;34m.\u001b[0m\u001b[0m__doc__\u001b[0m\u001b[0;34m\u001b[0m\u001b[0m\n\u001b[1;32m   1821\u001b[0m         \u001b[0;32mif\u001b[0m \u001b[0mpre_doc\u001b[0m \u001b[0;32mis\u001b[0m \u001b[0mNone\u001b[0m\u001b[0;34m:\u001b[0m\u001b[0;34m\u001b[0m\u001b[0m\n",
      "\u001b[0;32m/Users/LiWang/anaconda/lib/python2.7/site-packages/matplotlib/axes/_axes.pyc\u001b[0m in \u001b[0;36mbar\u001b[0;34m(self, left, height, width, bottom, **kwargs)\u001b[0m\n\u001b[1;32m   2036\u001b[0m         \u001b[0;32mif\u001b[0m \u001b[0mlen\u001b[0m\u001b[0;34m(\u001b[0m\u001b[0mheight\u001b[0m\u001b[0;34m)\u001b[0m \u001b[0;34m!=\u001b[0m \u001b[0mnbars\u001b[0m\u001b[0;34m:\u001b[0m\u001b[0;34m\u001b[0m\u001b[0m\n\u001b[1;32m   2037\u001b[0m             raise ValueError(\"incompatible sizes: argument 'height' \"\n\u001b[0;32m-> 2038\u001b[0;31m                               \"must be length %d or scalar\" % nbars)\n\u001b[0m\u001b[1;32m   2039\u001b[0m         \u001b[0;32mif\u001b[0m \u001b[0mlen\u001b[0m\u001b[0;34m(\u001b[0m\u001b[0mwidth\u001b[0m\u001b[0;34m)\u001b[0m \u001b[0;34m!=\u001b[0m \u001b[0mnbars\u001b[0m\u001b[0;34m:\u001b[0m\u001b[0;34m\u001b[0m\u001b[0m\n\u001b[1;32m   2040\u001b[0m             raise ValueError(\"incompatible sizes: argument 'width' \"\n",
      "\u001b[0;31mValueError\u001b[0m: incompatible sizes: argument 'height' must be length 19 or scalar"
     ]
    },
    {
     "data": {
      "image/png": "[encoded data removed]",
      "text/plain": [
       "<matplotlib.figure.Figure at 0x118a59890>"
      ]
     },
     "metadata": {},
     "output_type": "display_data"
    }
   ],
   "source": [
    "# Feature importances By SelectKBest\n",
    "\n",
    "import numpy as np\n",
    "from sklearn.feature_selection import SelectKBest, f_classif\n",
    "from sklearn.cross_validation import KFold\n",
    "%matplotlib inline\n",
    "import matplotlib.pyplot as plt\n",
    "\n",
    "# Perform feature selection\n",
    "selector = SelectKBest(f_classif, k=5)\n",
    "selector.fit(enron_df[predictors], enron[\"poi\"])\n",
    "\n",
    "# Get the raw p-values for each feature, and transform from p-values into scores\n",
    "scores = -np.log10(selector.pvalues_)\n",
    "\n",
    "indices = np.argsort(scores)[::-1]\n",
    "\n",
    "sorted_important_features=[]\n",
    "for i in indices:\n",
    "    sorted_important_features.append(predictors[i])\n",
    "\n",
    "# Plot the scores.  See how \"Pclass\", \"Sex\", \"Title\", and \"Fare\" are the best?\n",
    "plt.figure()\n",
    "plt.title(\"Feature Importances\")\n",
    "plt.bar(range(np.size(predictors)), scores[indices],\n",
    "       color=\"seagreen\", yerr=np.std([indices]), align=\"center\")\n",
    "plt.xticks(range(np.size(predictors)), sorted_important_features, rotation='vertical')\n",
    "\n",
    "plt.xlim([-1, np.size(predictors)])\n",
    "plt.show()\n"
   ]
  },
  {
   "cell_type": "markdown",
   "metadata": {},
   "source": [
    "#### Properly scale features (related mini-project: Lesson 9)\n",
    "\n",
    "If algorithm calls for scaled features, feature scaling is deployed."
   ]
  },
  {
   "cell_type": "code",
   "execution_count": 37,
   "metadata": {
    "collapsed": false
   },
   "outputs": [
    {
     "name": "stderr",
     "output_type": "stream",
     "text": [
      "/Users/LiWang/anaconda/lib/python2.7/site-packages/sklearn/preprocessing/data.py:321: DeprecationWarning: Passing 1d arrays as data is deprecated in 0.17 and will raise ValueError in 0.19. Reshape your data either using X.reshape(-1, 1) if your data has a single feature or X.reshape(1, -1) if it contains a single sample.\n",
      "  warnings.warn(DEPRECATION_MSG_1D, DeprecationWarning)\n",
      "/Users/LiWang/anaconda/lib/python2.7/site-packages/sklearn/preprocessing/data.py:356: DeprecationWarning: Passing 1d arrays as data is deprecated in 0.17 and will raise ValueError in 0.19. Reshape your data either using X.reshape(-1, 1) if your data has a single feature or X.reshape(1, -1) if it contains a single sample.\n",
      "  warnings.warn(DEPRECATION_MSG_1D, DeprecationWarning)\n"
     ]
    }
   ],
   "source": [
    "# Scale feature 'salary'\n",
    "scaler = sklearn.preprocessing.MinMaxScaler(feature_range=(0, 100), copy=True)\n",
    "salary_scaled = scaler.fit_transform(enron_df['salary'])\n"
   ]
  },
  {
   "cell_type": "code",
   "execution_count": null,
   "metadata": {
    "collapsed": true
   },
   "outputs": [],
   "source": []
  },
  {
   "cell_type": "markdown",
   "metadata": {
    "collapsed": true
   },
   "source": [
    "### Pick and Tune an Algorithm"
   ]
  },
  {
   "cell_type": "code",
   "execution_count": null,
   "metadata": {
    "collapsed": true
   },
   "outputs": [],
   "source": [
    "# ???\n",
    "#shuffle = sklearn.cross_validation.StratifiedShuffleSplit(labels, 4, test_size=0.3, random_state=0)"
   ]
  },
  {
   "cell_type": "markdown",
   "metadata": {},
   "source": [
    "#### Try out varity of classifiers (related mini-project: Lessons 1-3)\n",
    "\n",
    "Try a varity of classifier.  Please name your classifier clf for easy export below.  Note that if you want to do PCA or other multi-stage operations, you'll need to use Pipelines. For more info:\n",
    "http://scikit-learn.org/stable/modules/pipeline.html\n",
    "\n",
    "At least 2 different algorithms are attempted and their performance is compared, with the more performant one used in the final analysis."
   ]
  },
  {
   "cell_type": "code",
   "execution_count": 46,
   "metadata": {
    "collapsed": false
   },
   "outputs": [
    {
     "name": "stdout",
     "output_type": "stream",
     "text": [
      "[ 0.79166667  0.87234043  0.78723404]\n",
      "0.817080378251\n"
     ]
    }
   ],
   "source": [
    "# Try GaussianNB\n",
    "from sklearn.naive_bayes import GaussianNB\n",
    "\n",
    "gnb_clf = GaussianNB()\n",
    "scores = sklearn.cross_validation.cross_val_score(gnb_clf, features, labels)\n",
    "print scores\n",
    "print scores.mean()"
   ]
  },
  {
   "cell_type": "code",
   "execution_count": 43,
   "metadata": {
    "collapsed": false
   },
   "outputs": [
    {
     "ename": "NameError",
     "evalue": "name 'features_train' is not defined",
     "output_type": "error",
     "traceback": [
      "\u001b[0;31m---------------------------------------------------------------------------\u001b[0m",
      "\u001b[0;31mNameError\u001b[0m                                 Traceback (most recent call last)",
      "\u001b[0;32m<ipython-input-43-b51f28937143>\u001b[0m in \u001b[0;36m<module>\u001b[0;34m()\u001b[0m\n\u001b[1;32m      2\u001b[0m \u001b[0;32mfrom\u001b[0m \u001b[0msklearn\u001b[0m \u001b[0;32mimport\u001b[0m \u001b[0mpreprocessing\u001b[0m\u001b[0;34m\u001b[0m\u001b[0m\n\u001b[1;32m      3\u001b[0m \u001b[0;34m\u001b[0m\u001b[0m\n\u001b[0;32m----> 4\u001b[0;31m \u001b[0mscaler\u001b[0m \u001b[0;34m=\u001b[0m \u001b[0mpreprocessing\u001b[0m\u001b[0;34m.\u001b[0m\u001b[0mStandardScaler\u001b[0m\u001b[0;34m(\u001b[0m\u001b[0;34m)\u001b[0m\u001b[0;34m.\u001b[0m\u001b[0mfit\u001b[0m\u001b[0;34m(\u001b[0m\u001b[0mfeatures_train\u001b[0m\u001b[0;34m)\u001b[0m\u001b[0;34m\u001b[0m\u001b[0m\n\u001b[0m\u001b[1;32m      5\u001b[0m \u001b[0mfeatures_train_transformed\u001b[0m \u001b[0;34m=\u001b[0m \u001b[0mscaler\u001b[0m\u001b[0;34m.\u001b[0m\u001b[0mtransform\u001b[0m\u001b[0;34m(\u001b[0m\u001b[0mfeatures_train\u001b[0m\u001b[0;34m)\u001b[0m\u001b[0;34m\u001b[0m\u001b[0m\n\u001b[1;32m      6\u001b[0m \u001b[0mclf\u001b[0m \u001b[0;34m=\u001b[0m \u001b[0msvm\u001b[0m\u001b[0;34m.\u001b[0m\u001b[0mSVC\u001b[0m\u001b[0;34m(\u001b[0m\u001b[0mC\u001b[0m\u001b[0;34m=\u001b[0m\u001b[0;36m1\u001b[0m\u001b[0;34m)\u001b[0m\u001b[0;34m.\u001b[0m\u001b[0mfit\u001b[0m\u001b[0;34m(\u001b[0m\u001b[0mfeatures_train_transformed\u001b[0m\u001b[0;34m,\u001b[0m \u001b[0mlabels_train\u001b[0m\u001b[0;34m)\u001b[0m\u001b[0;34m\u001b[0m\u001b[0m\n",
      "\u001b[0;31mNameError\u001b[0m: name 'features_train' is not defined"
     ]
    }
   ],
   "source": [
    "# Try SVM with data transformation\n",
    "from sklearn import preprocessing\n",
    "\n",
    "scaler = preprocessing.StandardScaler().fit(features_train)\n",
    "features_train_transformed = scaler.transform(features_train)\n",
    "clf = svm.SVC(C=1).fit(features_train_transformed, labels_train)\n",
    "features_test_transformed = scaler.transform(features_test)\n",
    "clf.score(features_test_transformed, labels_test) \n",
    "\n"
   ]
  },
  {
   "cell_type": "code",
   "execution_count": 47,
   "metadata": {
    "collapsed": false
   },
   "outputs": [
    {
     "name": "stdout",
     "output_type": "stream",
     "text": [
      "[ 0.875       0.89361702  0.89361702]\n",
      "0.887411347518\n"
     ]
    }
   ],
   "source": [
    "# Try SVC\n",
    "from sklearn.svm import SVC\n",
    "\n",
    "svc_clf = SVC()\n",
    "scores = sklearn.cross_validation.cross_val_score(svc_clf, features, labels)\n",
    "print scores\n",
    "print scores.mean()"
   ]
  },
  {
   "cell_type": "code",
   "execution_count": 49,
   "metadata": {
    "collapsed": false
   },
   "outputs": [
    {
     "name": "stdout",
     "output_type": "stream",
     "text": [
      "[ 0.875       0.87234043  0.89361702]\n",
      "0.880319148936\n"
     ]
    }
   ],
   "source": [
    "# Try ExtraTreesClassifier\n",
    "from sklearn.ensemble import ExtraTreesClassifier\n",
    "\n",
    "erf_clf = ExtraTreesClassifier(n_estimators=10, max_depth=None, min_samples_split=2, random_state=0)\n",
    "scores = sklearn.cross_validation.cross_val_score(erf_clf, features, labels)\n",
    "print scores\n",
    "print scores.mean()"
   ]
  },
  {
   "cell_type": "code",
   "execution_count": 51,
   "metadata": {
    "collapsed": false
   },
   "outputs": [
    {
     "name": "stdout",
     "output_type": "stream",
     "text": [
      "[ 0.85416667  0.89361702  0.85106383]\n",
      "0.86628250591\n"
     ]
    }
   ],
   "source": [
    "# Try RandomForestClassifier\n",
    "from sklearn.ensemble import RandomForestClassifier\n",
    "\n",
    "rf_clf = RandomForestClassifier(n_estimators=10)\n",
    "scores = sklearn.cross_validation.cross_val_score(rf_clf, features, labels)\n",
    "\n",
    "print scores\n",
    "print scores.mean()"
   ]
  },
  {
   "cell_type": "code",
   "execution_count": 52,
   "metadata": {
    "collapsed": false
   },
   "outputs": [
    {
     "name": "stdout",
     "output_type": "stream",
     "text": [
      "[ 0.85416667  0.85106383  0.82978723]\n",
      "0.845005910165\n"
     ]
    }
   ],
   "source": [
    "# Try AdaBoostClassifier\n",
    "from sklearn.ensemble import AdaBoostClassifier\n",
    "\n",
    "ab_clf = AdaBoostClassifier(n_estimators=100)\n",
    "scores = sklearn.cross_validation.cross_val_score(ab_clf, features, labels)\n",
    "print scores \n",
    "print scores.mean()"
   ]
  },
  {
   "cell_type": "markdown",
   "metadata": {},
   "source": [
    "\n",
    "Comparing Classifiers based on cross validation scores:\n",
    "1st Tier: SVC, ExtraTreesClassifier\n",
    "2nd Tier: RandomForestClassifier, AdaBoostClassifier\n",
    "3st Tier: GaussianNB\n"
   ]
  },
  {
   "cell_type": "markdown",
   "metadata": {},
   "source": [
    "#### Discuss parameter tuning and its importance.\n",
    "\n",
    "Response addresses what it means to perform parameter tuning and why it is important."
   ]
  },
  {
   "cell_type": "code",
   "execution_count": null,
   "metadata": {
    "collapsed": true
   },
   "outputs": [],
   "source": []
  },
  {
   "cell_type": "markdown",
   "metadata": {},
   "source": [
    "#### Tune the algorithm (related mini-project: Lessons 2, 3, 13)\n",
    "\n",
    "At least one important parameter tuned with at least 3 settings investigated systematically, or any of the following are true:\n",
    "\n",
    "GridSearchCV used for parameter tuning\n",
    "Several parameters tuned\n",
    "Parameter tuning incorporated into algorithm selection (i.e. parameters tuned for more than one algorithm, and best algorithm-tune combination selected for final analysis)."
   ]
  },
  {
   "cell_type": "code",
   "execution_count": null,
   "metadata": {
    "collapsed": true
   },
   "outputs": [],
   "source": []
  },
  {
   "cell_type": "code",
   "execution_count": null,
   "metadata": {
    "collapsed": true
   },
   "outputs": [],
   "source": [
    "# Try SVM\n",
    "from sklearn.svm import SVC\n",
    "from sklearn.preprocessing import StandardScaler\n",
    "from sklearn.model_selection import StratifiedShuffleSplit\n",
    "from sklearn.model_selection import GridSearchCV\n",
    "\n",
    "scaler = StandardScaler()\n",
    "X = scaler.fit_transform(X)\n",
    "\n",
    "C_range = np.logspace(-2, 10, 13)\n",
    "gamma_range = np.logspace(-9, 3, 13)\n",
    "param_grid = dict(gamma=gamma_range, C=C_range)\n",
    "cv = StratifiedShuffleSplit(n_splits=5, test_size=0.2, random_state=42)\n",
    "grid = GridSearchCV(SVC(), param_grid=param_grid, cv=cv)\n",
    "grid.fit(X, y)\n",
    "\n",
    "print(\"The best parameters are %s with a score of %0.2f\"\n",
    "      % (grid.best_params_, grid.best_score_))\n",
    "\n",
    "# Now we need to fit a classifier for all parameters in the 2d version\n",
    "# (we use a smaller set of parameters here because it takes a while to train)\n",
    "\n",
    "C_2d_range = [1e-2, 1, 1e2]\n",
    "gamma_2d_range = [1e-1, 1, 1e1]\n",
    "classifiers = []\n",
    "for C in C_2d_range:\n",
    "    for gamma in gamma_2d_range:\n",
    "        clf = SVC(C=C, gamma=gamma)\n",
    "        clf.fit(X_2d, y_2d)\n",
    "        classifiers.append((C, gamma, clf))\n",
    "        \n",
    "plt.figure(figsize=(8, 6))\n",
    "xx, yy = np.meshgrid(np.linspace(-3, 3, 200), np.linspace(-3, 3, 200))\n",
    "for (k, (C, gamma, clf)) in enumerate(classifiers):\n",
    "    # evaluate decision function in a grid\n",
    "    Z = clf.decision_function(np.c_[xx.ravel(), yy.ravel()])\n",
    "    Z = Z.reshape(xx.shape)\n",
    "\n",
    "    # visualize decision function for these parameters\n",
    "    plt.subplot(len(C_2d_range), len(gamma_2d_range), k + 1)\n",
    "    plt.title(\"gamma=10^%d, C=10^%d\" % (np.log10(gamma), np.log10(C)),\n",
    "              size='medium')\n",
    "\n",
    "    # visualize parameter's effect on decision function\n",
    "    plt.pcolormesh(xx, yy, -Z, cmap=plt.cm.RdBu)\n",
    "    plt.scatter(X_2d[:, 0], X_2d[:, 1], c=y_2d, cmap=plt.cm.RdBu_r)\n",
    "    plt.xticks(())\n",
    "    plt.yticks(())\n",
    "    plt.axis('tight')\n",
    "\n",
    "scores = grid.cv_results_['mean_test_score'].reshape(len(C_range),\n",
    "                                                     len(gamma_range))\n",
    "\n",
    "\n",
    "# Draw heatmap of the validation accuracy as a function of gamma and C\n",
    "#\n",
    "# The score are encoded as colors with the hot colormap which varies from dark\n",
    "# red to bright yellow. As the most interesting scores are all located in the\n",
    "# 0.92 to 0.97 range we use a custom normalizer to set the mid-point to 0.92 so\n",
    "# as to make it easier to visualize the small variations of score values in the\n",
    "# interesting range while not brutally collapsing all the low score values to\n",
    "# the same color.\n",
    "\n",
    "plt.figure(figsize=(8, 6))\n",
    "plt.subplots_adjust(left=.2, right=0.95, bottom=0.15, top=0.95)\n",
    "plt.imshow(scores, interpolation='nearest', cmap=plt.cm.hot,\n",
    "           norm=MidpointNormalize(vmin=0.2, midpoint=0.92))\n",
    "plt.xlabel('gamma')\n",
    "plt.ylabel('C')\n",
    "plt.colorbar()\n",
    "plt.xticks(np.arange(len(gamma_range)), gamma_range, rotation=45)\n",
    "plt.yticks(np.arange(len(C_range)), C_range)\n",
    "plt.title('Validation accuracy')\n",
    "plt.show()        "
   ]
  },
  {
   "cell_type": "code",
   "execution_count": null,
   "metadata": {
    "collapsed": true
   },
   "outputs": [],
   "source": []
  },
  {
   "cell_type": "markdown",
   "metadata": {},
   "source": [
    "### Validate and Evaluate"
   ]
  },
  {
   "cell_type": "markdown",
   "metadata": {},
   "source": [
    "#### Usage of Evaluation Metrics (related mini-project: Lesson 14)\n",
    "\n",
    "At least two appropriate metrics are used to evaluate algorithm performance (e.g. precision and recall), and the student articulates what those metrics measure in context of the project task."
   ]
  },
  {
   "cell_type": "code",
   "execution_count": null,
   "metadata": {
    "collapsed": true
   },
   "outputs": [],
   "source": []
  },
  {
   "cell_type": "markdown",
   "metadata": {},
   "source": [
    "#### Discuss validation and its importance.\n",
    "\n",
    "Response addresses what validation is and why it is important."
   ]
  },
  {
   "cell_type": "code",
   "execution_count": null,
   "metadata": {
    "collapsed": true
   },
   "outputs": [],
   "source": []
  },
  {
   "cell_type": "markdown",
   "metadata": {},
   "source": [
    "#### Validation Strategy (related mini-project: Lesson 13)\n",
    "\n",
    "Performance of the final algorithm selected is assessed by splitting the data into training and testing sets or \n",
    "through the use of cross validation, noting the specific type of validation performed."
   ]
  },
  {
   "cell_type": "code",
   "execution_count": null,
   "metadata": {
    "collapsed": true
   },
   "outputs": [],
   "source": []
  },
  {
   "cell_type": "code",
   "execution_count": null,
   "metadata": {
    "collapsed": true
   },
   "outputs": [],
   "source": [
    "#### Algorithm Performance\n",
    "\n",
    "When tester.py is used to evaluate performance, precision and recall are both at least 0.3."
   ]
  },
  {
   "cell_type": "code",
   "execution_count": null,
   "metadata": {
    "collapsed": true
   },
   "outputs": [],
   "source": []
  },
  {
   "cell_type": "code",
   "execution_count": null,
   "metadata": {
    "collapsed": true
   },
   "outputs": [],
   "source": [
    "### Task 5: Tune your classifier to achieve better than .3 precision and recall \n",
    "### using our testing script. Check the tester.py script in the final project\n",
    "### folder for details on the evaluation method, especially the test_classifier\n",
    "### function. Because of the small size of the dataset, the script uses\n",
    "### stratified shuffle split cross validation. For more info: \n",
    "### http://scikit-learn.org/stable/modules/generated/sklearn.cross_validation.StratifiedShuffleSplit.html\n",
    "\n",
    "# Example starting point. Try investigating other evaluation techniques!\n",
    "from sklearn.cross_validation import train_test_split\n",
    "features_train, features_test, labels_train, labels_test = \\\n",
    "    train_test_split(features, labels, test_size=0.3, random_state=42)\n",
    "\n"
   ]
  },
  {
   "cell_type": "markdown",
   "metadata": {},
   "source": [
    "#### Get the best fitting parameters and Testing for RandomForest"
   ]
  },
  {
   "cell_type": "code",
   "execution_count": null,
   "metadata": {
    "collapsed": true
   },
   "outputs": [],
   "source": [
    "# get the best parameters\n",
    "from sklearn.model_selection import KFold\n",
    "\n",
    "cv = KFold(n_splits=5)\n",
    "\n",
    "parameters = {'n_estimators': [10,20,30,40,50],\n",
    "               'min_samples_split' :[2,3,4,5],\n",
    "               'min_samples_leaf' : [1,2,3]\n",
    "             }\n",
    "\n",
    "rfclf = RandomForestClassifier()\n",
    "grid_obj = GridSearchCV(rfclf, parameters, cv=cv)\n",
    "grid_fit = grid_obj.fit(features_train, labels_train)\n",
    "best_rfclf = grid_fit.best_estimator_ \n",
    "\n",
    "best_rfclf.fit(features_train,labels_train)"
   ]
  },
  {
   "cell_type": "code",
   "execution_count": null,
   "metadata": {
    "collapsed": true
   },
   "outputs": [],
   "source": [
    "# RandomForestClassifier use the best parameter\n",
    "from sklearn.cross_validation import KFold\n",
    "\n",
    "rf = RandomForestClassifier(bootstrap=True, class_weight=None, criterion='gini',\n",
    "            max_depth=None, max_features='auto', max_leaf_nodes=None,\n",
    "            min_impurity_split=1e-07, min_samples_leaf=2,\n",
    "            min_samples_split=2, min_weight_fraction_leaf=0.0,\n",
    "            n_estimators=40, n_jobs=1, oob_score=False, random_state=None,\n",
    "            verbose=0, warm_start=False)\n",
    "\n",
    "rf.fit(features_train, labels_train)\n",
    "\n",
    "kf = KFold(titanic.shape[0], n_folds=3, random_state=1)\n",
    "scores = cross_validation.cross_val_score(rf, features, labels_train, cv=kf)\n",
    "# Take the mean of the scores (because we have one for each fold)\n",
    "print(scores.mean())\n",
    "\n",
    "output = best_rfclf.predict(features_test)\n",
    "print len(output)"
   ]
  },
  {
   "cell_type": "code",
   "execution_count": null,
   "metadata": {
    "collapsed": true
   },
   "outputs": [],
   "source": [
    "from sklearn import grid_search\n",
    "\n",
    "cv = sklearn.cross_validation.StratifiedShuffleSplit(labels, n_iter=10)\n",
    "\n",
    "def scoring(estimator, features_test, labels_test):\n",
    "     labels_pred = estimator.predict(features_test)\n",
    "     p = sklearn.metrics.precision_score(labels_test, labels_pred, average='micro')\n",
    "     r = sklearn.metrics.recall_score(labels_test, labels_pred, average='micro')\n",
    "     if p > 0.3 and r > 0.3:\n",
    "            return sklearn.metrics.f1_score(labels_test, labels_pred, average='macro')\n",
    "     return 0\n",
    "\n",
    "'''\n",
    "parameters = {'max_depth': [2,3,4,5,6],'min_samples_split':[2,3,4,5], 'n_estimators':[10,20,50], 'min_samples_leaf':[1,2,3,4], 'criterion':('gini', 'entropy')}\n",
    "rf_clf = RandomForestClassifier()\n",
    "rfclf = grid_search.GridSearchCV(rf_clf, parameters, scoring = scoring, cv = cv)\n",
    "rfclf.fit(features, labels)\n",
    "\n",
    "print rfclf.best_estimator_\n",
    "print rfclf.best_score_\n",
    "'''"
   ]
  },
  {
   "cell_type": "code",
   "execution_count": null,
   "metadata": {
    "collapsed": true
   },
   "outputs": [],
   "source": []
  },
  {
   "cell_type": "markdown",
   "metadata": {},
   "source": [
    "#### Get the best fitting parameters and Testing for Adaboost"
   ]
  },
  {
   "cell_type": "code",
   "execution_count": null,
   "metadata": {
    "collapsed": true
   },
   "outputs": [],
   "source": [
    "\n",
    "from sklearn import grid_search\n",
    "from sklearn.tree import DecisionTreeClassifier\n",
    "from sklearn.svm import SVC\n",
    "parameters = {'n_estimators' : [5, 10, 30, 40, 50, 100,150], \n",
    "              'learning_rate' : [0.1, 0.5, 1, 1.5, 2, 2.5], \n",
    "              'algorithm' : ('SAMME', 'SAMME.R')}\n",
    "ada_clf = AdaBoostClassifier(DecisionTreeClassifier(max_depth=8))\n",
    "adaclf = grid_search.GridSearchCV(ada_clf, parameters, scoring = scoring, cv = cv)\n",
    "adaclf.fit(features, labels)\n",
    "\n",
    "print adaclf.best_estimator_\n",
    "print adaclf.best_score_"
   ]
  },
  {
   "cell_type": "markdown",
   "metadata": {},
   "source": [
    "### Dump your classifier, dataset, and features_list for checking\n",
    "\n",
    "Dump your classifier, dataset, and features_list so anyone cancheck your results. You do not need to change anything below, but make sure that the version of poi_id.py that you submit can be run on its own and generates the necessary .pkl files for validating your results.\n"
   ]
  },
  {
   "cell_type": "code",
   "execution_count": null,
   "metadata": {
    "collapsed": true
   },
   "outputs": [],
   "source": [
    "# prepare parameter for dump classifier\n",
    "clf_dump = adaclf\n",
    "\n",
    "features_list = list(df_imp_sub.columns.values)\n",
    "\n",
    "list_cols = list(df_subset.columns.values)\n",
    "features_list.remove('poi')\n",
    "features_list.insert(0, 'poi')\n",
    "data = df_subset[features_list].fillna(0).to_dict(orient='records')\n",
    "enron_data_sub = {}\n",
    "counter = 0\n",
    "for item in data:\n",
    "    enron_data_sub[counter] = item\n",
    "    counter += 1\n",
    "    \n",
    "my_dataset = enron_data_sub    "
   ]
  },
  {
   "cell_type": "code",
   "execution_count": null,
   "metadata": {
    "collapsed": true
   },
   "outputs": [],
   "source": [
    "# \n",
    "dump_classifier_and_data(clf_dump, my_dataset, features_list)"
   ]
  },
  {
   "cell_type": "code",
   "execution_count": null,
   "metadata": {
    "collapsed": true
   },
   "outputs": [],
   "source": []
  },
  {
   "cell_type": "markdown",
   "metadata": {},
   "source": [
    "### List of Resources"
   ]
  },
  {
   "cell_type": "markdown",
   "metadata": {},
   "source": [
    "\n",
    "sklearn documentation: http://scikit-learn.org/stable/index.html\n",
    "pandas documentation: http://pandas.pydata.org\n",
    "Jason Brownlee on Machine Learning Process:  How to Identify Outliers in your Data http://machinelearningmastery.com/how-to-identify-outliers-in-your-data/\n"
   ]
  }
 ],
 "metadata": {
  "anaconda-cloud": {},
  "kernelspec": {
   "display_name": "Python [default]",
   "language": "python",
   "name": "python2"
  },
  "language_info": {
   "codemirror_mode": {
    "name": "ipython",
    "version": 2
   },
   "file_extension": ".py",
   "mimetype": "text/x-python",
   "name": "python",
   "nbconvert_exporter": "python",
   "pygments_lexer": "ipython2",
   "version": "2.7.12"
  }
 },
 "nbformat": 4,
 "nbformat_minor": 1
}
